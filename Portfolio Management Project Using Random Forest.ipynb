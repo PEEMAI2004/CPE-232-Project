{
 "cells": [
  {
   "cell_type": "code",
   "execution_count": 1,
   "id": "4978c664",
   "metadata": {},
   "outputs": [],
   "source": [
    "import yfinance as yf\n",
    "import pandas as pd\n",
    "import numpy as np\n",
    "import matplotlib.pyplot as plt\n",
    "import seaborn as sns\n",
    "from ta.momentum import RSIIndicator\n",
    "from ta.trend import MACD, SMAIndicator\n",
    "from ta.volatility import BollingerBands\n",
    "from sklearn.ensemble import RandomForestClassifier\n",
    "from sklearn.model_selection import train_test_split, TimeSeriesSplit\n",
    "from sklearn.metrics import classification_report, confusion_matrix, roc_auc_score, roc_curve\n",
    "import datetime"
   ]
  },
  {
   "cell_type": "code",
   "execution_count": 2,
   "id": "7758d79b",
   "metadata": {},
   "outputs": [],
   "source": [
    "# Project time frame\n",
    "start_date = \"2020-01-01\"\n",
    "end_date = \"2025-05-01\"\n",
    "\n",
    "# Benchmark index\n",
    "benchmark_symbol = \"^GSPC\"\n",
    "\n",
    "# Top 10 symbols from each sector (replace with your actual tickers if needed)\n",
    "sectors = {\n",
    "    \"Technology\": [\"AAPL\", \"MSFT\", \"NVDA\", \"AVGO\", \"ADBE\", \"CRM\", \"AMD\", \"CSCO\", \"INTC\", \"ORCL\"],\n",
    "    # \"Communication\": [\"GOOGL\", \"META\", \"NFLX\", \"TMUS\", \"DIS\", \"VZ\", \"T\", \"CHTR\", \"CMCSA\", \"WBD\"],\n",
    "    # \"Health\": [\"JNJ\", \"PFE\", \"ABBV\", \"LLY\", \"MRK\", \"TMO\", \"BMY\", \"UNH\", \"ABT\", \"CVS\"],\n",
    "    # \"Financials\": [\"JPM\", \"BAC\", \"WFC\", \"C\", \"GS\", \"MS\", \"AXP\", \"USB\", \"BK\", \"SCHW\"],\n",
    "    # \"Defensive\": [\"PG\", \"KO\", \"PEP\", \"WMT\", \"COST\", \"CL\", \"MO\", \"KMB\", \"MDLZ\", \"KR\"],\n",
    "    # \"Cyclical\": [\"AMZN\", \"HD\", \"LOW\", \"MCD\", \"NKE\", \"SBUX\", \"BKNG\", \"TGT\", \"EBAY\", \"GM\"],\n",
    "    # \"Property\": [\"PLD\", \"AMT\", \"CCI\", \"EQIX\", \"DLR\"benchmark_symbol \"SPG\", \"O\", \"PSA\", \"VTR\", \"EXR\"],\n",
    "    \"Benchmark\": [benchmark_symbol]\n",
    "}\n",
    "\n",
    "# Flatten list of all tickers\n",
    "all_symbols = [symbol for group in sectors.values() for symbol in group]"
   ]
  },
  {
   "cell_type": "markdown",
   "id": "8893f04a",
   "metadata": {},
   "source": [
    "### Load from CSV"
   ]
  },
  {
   "cell_type": "code",
   "execution_count": 3,
   "id": "4fad8a99",
   "metadata": {},
   "outputs": [
    {
     "name": "stdout",
     "output_type": "stream",
     "text": [
      "Loaded dataset from CSV.\n"
     ]
    }
   ],
   "source": [
    "# Load dataset from CSV\n",
    "import os\n",
    "\n",
    "if os.path.exists(\"stock_sector_data.csv\"):\n",
    "    stock_df = pd.read_csv(\"stock_sector_data.csv\", parse_dates=[\"Date\"])\n",
    "    print(\"Loaded dataset from CSV.\")\n",
    "else:\n",
    "    print(\"CSV file not found. Please run the download step.\")\n"
   ]
  },
  {
   "cell_type": "markdown",
   "id": "23bd235b",
   "metadata": {},
   "source": [
    "### Feature Engineering — Add Technical Indicators\n"
   ]
  },
  {
   "cell_type": "code",
   "execution_count": 4,
   "id": "2433a1aa",
   "metadata": {},
   "outputs": [
    {
     "data": {
      "application/vnd.microsoft.datawrangler.viewer.v0+json": {
       "columns": [
        {
         "name": "index",
         "rawType": "int64",
         "type": "integer"
        },
        {
         "name": "Date",
         "rawType": "datetime64[ns]",
         "type": "datetime"
        },
        {
         "name": "Open",
         "rawType": "float64",
         "type": "float"
        },
        {
         "name": "High",
         "rawType": "float64",
         "type": "float"
        },
        {
         "name": "Low",
         "rawType": "float64",
         "type": "float"
        },
        {
         "name": "Close",
         "rawType": "float64",
         "type": "float"
        },
        {
         "name": "Volume",
         "rawType": "int64",
         "type": "integer"
        },
        {
         "name": "Symbol",
         "rawType": "object",
         "type": "string"
        },
        {
         "name": "Sector",
         "rawType": "object",
         "type": "string"
        },
        {
         "name": "Return_1w",
         "rawType": "float64",
         "type": "float"
        },
        {
         "name": "Return_4w",
         "rawType": "float64",
         "type": "float"
        },
        {
         "name": "Volatility_4w",
         "rawType": "float64",
         "type": "float"
        },
        {
         "name": "MA5",
         "rawType": "float64",
         "type": "float"
        },
        {
         "name": "MA20",
         "rawType": "float64",
         "type": "float"
        },
        {
         "name": "MA50",
         "rawType": "float64",
         "type": "float"
        },
        {
         "name": "Volume_Change",
         "rawType": "float64",
         "type": "float"
        },
        {
         "name": "Volume_MA5",
         "rawType": "float64",
         "type": "float"
        },
        {
         "name": "MACD",
         "rawType": "float64",
         "type": "float"
        },
        {
         "name": "MACD_Signal",
         "rawType": "float64",
         "type": "float"
        },
        {
         "name": "RSI",
         "rawType": "float64",
         "type": "float"
        },
        {
         "name": "BB_Upper",
         "rawType": "float64",
         "type": "float"
        },
        {
         "name": "BB_Lower",
         "rawType": "float64",
         "type": "float"
        }
       ],
       "conversionMethod": "pd.DataFrame",
       "ref": "abf9893d-bebd-4d80-85f8-1d278bf57b7a",
       "rows": [
        [
         "49",
         "2020-12-09 00:00:00",
         "121.63853648988778",
         "124.9302911359923",
         "117.36023840141094",
         "124.91075134277344",
         "519769400",
         "AAPL",
         "Technology",
         "0.09863311544715292",
         "0.5875743664801085",
         "5.237418522863244",
         "119.0774154663086",
         "114.71280822753906",
         "91.65731910705567",
         "0.2519444458494924",
         "456726820.0",
         "7.837341757535469",
         "8.112575501014398",
         "65.30888678827579",
         "127.23577235190739",
         "102.18984410317073"
        ],
        [
         "50",
         "2020-12-16 00:00:00",
         "124.45168871982332",
         "131.2891567050616",
         "120.58362884448113",
         "128.81790161132812",
         "675266300",
         "AAPL",
         "Technology",
         "0.19619285175654033",
         "0.5389485389284867",
         "3.965574260652717",
         "121.51742095947266",
         "115.81661567687988",
         "92.78884651184082",
         "0.29916516824576433",
         "499281440.0",
         "8.285367591585299",
         "8.147133919128578",
         "67.54559296488299",
         "129.19698388209403",
         "102.43624747166572"
        ],
        [
         "51",
         "2020-12-23 00:00:00",
         "129.09136597304897",
         "135.56741313736748",
         "127.743403575687",
         "131.73843383789062",
         "388687300",
         "AAPL",
         "Technology",
         "0.16497909784121023",
         "0.5376759651227083",
         "4.479194279558259",
         "125.36593475341797",
         "117.08056297302247",
         "93.90959068298339",
         "-0.42439405016954057",
         "483844320.0",
         "8.774941769195323",
         "8.272695489141928",
         "69.14690514442682",
         "131.42746831729713",
         "102.73365762874779"
        ],
        [
         "52",
         "2020-12-30 00:00:00",
         "132.43199090880486",
         "132.8324747598134",
         "123.81678141163933",
         "127.96809387207033",
         "436535500",
         "AAPL",
         "Technology",
         "0.09732830245559532",
         "0.4347816789024479",
         "2.8091748485187087",
         "126.98543853759766",
         "117.84472465515137",
         "94.93609260559082",
         "0.12310204115236068",
         "487085640.0",
         "8.75774408464548",
         "8.369705208242639",
         "64.7081182903315",
         "132.78932722415564",
         "102.90012208614709"
        ],
        [
         "53",
         "2021-01-06 00:00:00",
         "124.75446957580589",
         "129.55046782688032",
         "123.44557917046318",
         "125.80939483642578",
         "562160000",
         "AAPL",
         "Technology",
         "0.11834683864926143",
         "0.4172680067698462",
         "2.455126323294018",
         "127.84891510009766",
         "118.04935989379882",
         "95.91399726867675",
         "0.2877761373359098",
         "516483700.0",
         "8.47226285220151",
         "8.390216737034415",
         "62.24441609344254",
         "133.30918999169134",
         "102.78952979590629"
        ]
       ],
       "shape": {
        "columns": 21,
        "rows": 5
       }
      },
      "text/html": [
       "<div>\n",
       "<style scoped>\n",
       "    .dataframe tbody tr th:only-of-type {\n",
       "        vertical-align: middle;\n",
       "    }\n",
       "\n",
       "    .dataframe tbody tr th {\n",
       "        vertical-align: top;\n",
       "    }\n",
       "\n",
       "    .dataframe thead th {\n",
       "        text-align: right;\n",
       "    }\n",
       "</style>\n",
       "<table border=\"1\" class=\"dataframe\">\n",
       "  <thead>\n",
       "    <tr style=\"text-align: right;\">\n",
       "      <th></th>\n",
       "      <th>Date</th>\n",
       "      <th>Open</th>\n",
       "      <th>High</th>\n",
       "      <th>Low</th>\n",
       "      <th>Close</th>\n",
       "      <th>Volume</th>\n",
       "      <th>Symbol</th>\n",
       "      <th>Sector</th>\n",
       "      <th>Return_1w</th>\n",
       "      <th>Return_4w</th>\n",
       "      <th>...</th>\n",
       "      <th>MA5</th>\n",
       "      <th>MA20</th>\n",
       "      <th>MA50</th>\n",
       "      <th>Volume_Change</th>\n",
       "      <th>Volume_MA5</th>\n",
       "      <th>MACD</th>\n",
       "      <th>MACD_Signal</th>\n",
       "      <th>RSI</th>\n",
       "      <th>BB_Upper</th>\n",
       "      <th>BB_Lower</th>\n",
       "    </tr>\n",
       "  </thead>\n",
       "  <tbody>\n",
       "    <tr>\n",
       "      <th>49</th>\n",
       "      <td>2020-12-09</td>\n",
       "      <td>121.638536</td>\n",
       "      <td>124.930291</td>\n",
       "      <td>117.360238</td>\n",
       "      <td>124.910751</td>\n",
       "      <td>519769400</td>\n",
       "      <td>AAPL</td>\n",
       "      <td>Technology</td>\n",
       "      <td>0.098633</td>\n",
       "      <td>0.587574</td>\n",
       "      <td>...</td>\n",
       "      <td>119.077415</td>\n",
       "      <td>114.712808</td>\n",
       "      <td>91.657319</td>\n",
       "      <td>0.251944</td>\n",
       "      <td>456726820.0</td>\n",
       "      <td>7.837342</td>\n",
       "      <td>8.112576</td>\n",
       "      <td>65.308887</td>\n",
       "      <td>127.235772</td>\n",
       "      <td>102.189844</td>\n",
       "    </tr>\n",
       "    <tr>\n",
       "      <th>50</th>\n",
       "      <td>2020-12-16</td>\n",
       "      <td>124.451689</td>\n",
       "      <td>131.289157</td>\n",
       "      <td>120.583629</td>\n",
       "      <td>128.817902</td>\n",
       "      <td>675266300</td>\n",
       "      <td>AAPL</td>\n",
       "      <td>Technology</td>\n",
       "      <td>0.196193</td>\n",
       "      <td>0.538949</td>\n",
       "      <td>...</td>\n",
       "      <td>121.517421</td>\n",
       "      <td>115.816616</td>\n",
       "      <td>92.788847</td>\n",
       "      <td>0.299165</td>\n",
       "      <td>499281440.0</td>\n",
       "      <td>8.285368</td>\n",
       "      <td>8.147134</td>\n",
       "      <td>67.545593</td>\n",
       "      <td>129.196984</td>\n",
       "      <td>102.436247</td>\n",
       "    </tr>\n",
       "    <tr>\n",
       "      <th>51</th>\n",
       "      <td>2020-12-23</td>\n",
       "      <td>129.091366</td>\n",
       "      <td>135.567413</td>\n",
       "      <td>127.743404</td>\n",
       "      <td>131.738434</td>\n",
       "      <td>388687300</td>\n",
       "      <td>AAPL</td>\n",
       "      <td>Technology</td>\n",
       "      <td>0.164979</td>\n",
       "      <td>0.537676</td>\n",
       "      <td>...</td>\n",
       "      <td>125.365935</td>\n",
       "      <td>117.080563</td>\n",
       "      <td>93.909591</td>\n",
       "      <td>-0.424394</td>\n",
       "      <td>483844320.0</td>\n",
       "      <td>8.774942</td>\n",
       "      <td>8.272695</td>\n",
       "      <td>69.146905</td>\n",
       "      <td>131.427468</td>\n",
       "      <td>102.733658</td>\n",
       "    </tr>\n",
       "    <tr>\n",
       "      <th>52</th>\n",
       "      <td>2020-12-30</td>\n",
       "      <td>132.431991</td>\n",
       "      <td>132.832475</td>\n",
       "      <td>123.816781</td>\n",
       "      <td>127.968094</td>\n",
       "      <td>436535500</td>\n",
       "      <td>AAPL</td>\n",
       "      <td>Technology</td>\n",
       "      <td>0.097328</td>\n",
       "      <td>0.434782</td>\n",
       "      <td>...</td>\n",
       "      <td>126.985439</td>\n",
       "      <td>117.844725</td>\n",
       "      <td>94.936093</td>\n",
       "      <td>0.123102</td>\n",
       "      <td>487085640.0</td>\n",
       "      <td>8.757744</td>\n",
       "      <td>8.369705</td>\n",
       "      <td>64.708118</td>\n",
       "      <td>132.789327</td>\n",
       "      <td>102.900122</td>\n",
       "    </tr>\n",
       "    <tr>\n",
       "      <th>53</th>\n",
       "      <td>2021-01-06</td>\n",
       "      <td>124.754470</td>\n",
       "      <td>129.550468</td>\n",
       "      <td>123.445579</td>\n",
       "      <td>125.809395</td>\n",
       "      <td>562160000</td>\n",
       "      <td>AAPL</td>\n",
       "      <td>Technology</td>\n",
       "      <td>0.118347</td>\n",
       "      <td>0.417268</td>\n",
       "      <td>...</td>\n",
       "      <td>127.848915</td>\n",
       "      <td>118.049360</td>\n",
       "      <td>95.913997</td>\n",
       "      <td>0.287776</td>\n",
       "      <td>516483700.0</td>\n",
       "      <td>8.472263</td>\n",
       "      <td>8.390217</td>\n",
       "      <td>62.244416</td>\n",
       "      <td>133.309190</td>\n",
       "      <td>102.789530</td>\n",
       "    </tr>\n",
       "  </tbody>\n",
       "</table>\n",
       "<p>5 rows × 21 columns</p>\n",
       "</div>"
      ],
      "text/plain": [
       "         Date        Open        High         Low       Close     Volume  \\\n",
       "49 2020-12-09  121.638536  124.930291  117.360238  124.910751  519769400   \n",
       "50 2020-12-16  124.451689  131.289157  120.583629  128.817902  675266300   \n",
       "51 2020-12-23  129.091366  135.567413  127.743404  131.738434  388687300   \n",
       "52 2020-12-30  132.431991  132.832475  123.816781  127.968094  436535500   \n",
       "53 2021-01-06  124.754470  129.550468  123.445579  125.809395  562160000   \n",
       "\n",
       "   Symbol      Sector  Return_1w  Return_4w  ...         MA5        MA20  \\\n",
       "49   AAPL  Technology   0.098633   0.587574  ...  119.077415  114.712808   \n",
       "50   AAPL  Technology   0.196193   0.538949  ...  121.517421  115.816616   \n",
       "51   AAPL  Technology   0.164979   0.537676  ...  125.365935  117.080563   \n",
       "52   AAPL  Technology   0.097328   0.434782  ...  126.985439  117.844725   \n",
       "53   AAPL  Technology   0.118347   0.417268  ...  127.848915  118.049360   \n",
       "\n",
       "         MA50  Volume_Change   Volume_MA5      MACD  MACD_Signal        RSI  \\\n",
       "49  91.657319       0.251944  456726820.0  7.837342     8.112576  65.308887   \n",
       "50  92.788847       0.299165  499281440.0  8.285368     8.147134  67.545593   \n",
       "51  93.909591      -0.424394  483844320.0  8.774942     8.272695  69.146905   \n",
       "52  94.936093       0.123102  487085640.0  8.757744     8.369705  64.708118   \n",
       "53  95.913997       0.287776  516483700.0  8.472263     8.390217  62.244416   \n",
       "\n",
       "      BB_Upper    BB_Lower  \n",
       "49  127.235772  102.189844  \n",
       "50  129.196984  102.436247  \n",
       "51  131.427468  102.733658  \n",
       "52  132.789327  102.900122  \n",
       "53  133.309190  102.789530  \n",
       "\n",
       "[5 rows x 21 columns]"
      ]
     },
     "execution_count": 4,
     "metadata": {},
     "output_type": "execute_result"
    }
   ],
   "source": [
    "def add_technical_indicators(df):\n",
    "    result = []\n",
    "\n",
    "    for symbol in df[\"Symbol\"].unique():\n",
    "        sub = df[df[\"Symbol\"] == symbol].sort_values(\"Date\").copy()\n",
    "\n",
    "        # Momentum: past 1-week and 4-week returns\n",
    "        sub[\"Return_1w\"] = sub[\"Close\"].pct_change(1*7)\n",
    "        sub[\"Return_4w\"] = sub[\"Close\"].pct_change(4*7)\n",
    "\n",
    "        # Volatility: Rolling std dev\n",
    "        sub[\"Volatility_4w\"] = sub[\"Close\"].rolling(window=4).std()\n",
    "        \n",
    "        # Moving averages\n",
    "        sub['MA5'] = sub['Close'].rolling(window=5).mean()\n",
    "        sub['MA20'] = sub['Close'].rolling(window=20).mean()\n",
    "        sub['MA50'] = sub['Close'].rolling(window=50).mean()\n",
    "        \n",
    "        # Volume indicators\n",
    "        sub['Volume_Change'] = sub['Volume'].pct_change()\n",
    "        sub['Volume_MA5'] = sub['Volume'].rolling(window=5).mean()\n",
    "        \n",
    "        # MACD\n",
    "        sub[\"MACD\"] = MACD(close=sub[\"Close\"]).macd()\n",
    "        sub[\"MACD_Signal\"] = MACD(close=sub[\"Close\"]).macd_signal()\n",
    "\n",
    "        # RSI\n",
    "        sub[\"RSI\"] = RSIIndicator(close=sub[\"Close\"], window=14).rsi()\n",
    "\n",
    "        # SMAbenchmark_symbol\n",
    "        # Bollinger Bands\n",
    "        bb = BollingerBands(close=sub[\"Close\"], window=20)\n",
    "        sub[\"BB_Upper\"] = bb.bollinger_hband()\n",
    "        sub[\"BB_Lower\"] = bb.bollinger_lband()\n",
    "\n",
    "        result.append(sub)\n",
    "\n",
    "    features_df = pd.concat(result).reset_index(drop=True)\n",
    "    return features_df\n",
    "\n",
    "features_df = add_technical_indicators(stock_df)\n",
    "features_df = features_df.dropna()\n",
    "features_df.head()\n"
   ]
  },
  {
   "cell_type": "markdown",
   "id": "98cf0d67",
   "metadata": {},
   "source": [
    "### Create Outperformance Label"
   ]
  },
  {
   "cell_type": "code",
   "execution_count": 5,
   "id": "0a6becbc",
   "metadata": {},
   "outputs": [
    {
     "data": {
      "application/vnd.microsoft.datawrangler.viewer.v0+json": {
       "columns": [
        {
         "name": "index",
         "rawType": "int64",
         "type": "integer"
        },
        {
         "name": "Date",
         "rawType": "datetime64[ns]",
         "type": "datetime"
        },
        {
         "name": "Symbol",
         "rawType": "object",
         "type": "string"
        },
        {
         "name": "Sector",
         "rawType": "object",
         "type": "string"
        },
        {
         "name": "Stock_Return_Next",
         "rawType": "float64",
         "type": "float"
        },
        {
         "name": "Benchmark_Return_Next",
         "rawType": "float64",
         "type": "float"
        },
        {
         "name": "Label",
         "rawType": "int64",
         "type": "integer"
        }
       ],
       "conversionMethod": "pd.DataFrame",
       "ref": "71538af3-a843-46a2-98e3-c2ba236c9ff9",
       "rows": [
        [
         "16325",
         "2025-04-02 00:00:00",
         "^GSPC",
         "Benchmark",
         "0.08305819085749899",
         "0.08305819085749899",
         "0"
        ],
        [
         "16326",
         "2025-04-09 00:00:00",
         "^GSPC",
         "Benchmark",
         "-0.02017372314789201",
         "-0.02017372314789201",
         "0"
        ],
        [
         "16327",
         "2025-04-16 00:00:00",
         "^GSPC",
         "Benchmark",
         "0.05164196646662966",
         "0.05164196646662966",
         "0"
        ],
        [
         "16328",
         "2025-04-23 00:00:00",
         "^GSPC",
         "Benchmark",
         "0.00147999135976562",
         "0.00147999135976562",
         "0"
        ],
        [
         "16329",
         "2025-04-30 00:00:00",
         "^GSPC",
         "Benchmark",
         null,
         null,
         "0"
        ]
       ],
       "shape": {
        "columns": 6,
        "rows": 5
       }
      },
      "text/html": [
       "<div>\n",
       "<style scoped>\n",
       "    .dataframe tbody tr th:only-of-type {\n",
       "        vertical-align: middle;\n",
       "    }\n",
       "\n",
       "    .dataframe tbody tr th {\n",
       "        vertical-align: top;\n",
       "    }\n",
       "\n",
       "    .dataframe thead th {\n",
       "        text-align: right;\n",
       "    }\n",
       "</style>\n",
       "<table border=\"1\" class=\"dataframe\">\n",
       "  <thead>\n",
       "    <tr style=\"text-align: right;\">\n",
       "      <th></th>\n",
       "      <th>Date</th>\n",
       "      <th>Symbol</th>\n",
       "      <th>Sector</th>\n",
       "      <th>Stock_Return_Next</th>\n",
       "      <th>Benchmark_Return_Next</th>\n",
       "      <th>Label</th>\n",
       "    </tr>\n",
       "  </thead>\n",
       "  <tbody>\n",
       "    <tr>\n",
       "      <th>16325</th>\n",
       "      <td>2025-04-02</td>\n",
       "      <td>^GSPC</td>\n",
       "      <td>Benchmark</td>\n",
       "      <td>0.083058</td>\n",
       "      <td>0.083058</td>\n",
       "      <td>0</td>\n",
       "    </tr>\n",
       "    <tr>\n",
       "      <th>16326</th>\n",
       "      <td>2025-04-09</td>\n",
       "      <td>^GSPC</td>\n",
       "      <td>Benchmark</td>\n",
       "      <td>-0.020174</td>\n",
       "      <td>-0.020174</td>\n",
       "      <td>0</td>\n",
       "    </tr>\n",
       "    <tr>\n",
       "      <th>16327</th>\n",
       "      <td>2025-04-16</td>\n",
       "      <td>^GSPC</td>\n",
       "      <td>Benchmark</td>\n",
       "      <td>0.051642</td>\n",
       "      <td>0.051642</td>\n",
       "      <td>0</td>\n",
       "    </tr>\n",
       "    <tr>\n",
       "      <th>16328</th>\n",
       "      <td>2025-04-23</td>\n",
       "      <td>^GSPC</td>\n",
       "      <td>Benchmark</td>\n",
       "      <td>0.001480</td>\n",
       "      <td>0.001480</td>\n",
       "      <td>0</td>\n",
       "    </tr>\n",
       "    <tr>\n",
       "      <th>16329</th>\n",
       "      <td>2025-04-30</td>\n",
       "      <td>^GSPC</td>\n",
       "      <td>Benchmark</td>\n",
       "      <td>NaN</td>\n",
       "      <td>NaN</td>\n",
       "      <td>0</td>\n",
       "    </tr>\n",
       "  </tbody>\n",
       "</table>\n",
       "</div>"
      ],
      "text/plain": [
       "            Date Symbol     Sector  Stock_Return_Next  Benchmark_Return_Next  \\\n",
       "16325 2025-04-02  ^GSPC  Benchmark           0.083058               0.083058   \n",
       "16326 2025-04-09  ^GSPC  Benchmark          -0.020174              -0.020174   \n",
       "16327 2025-04-16  ^GSPC  Benchmark           0.051642               0.051642   \n",
       "16328 2025-04-23  ^GSPC  Benchmark           0.001480               0.001480   \n",
       "16329 2025-04-30  ^GSPC  Benchmark                NaN                    NaN   \n",
       "\n",
       "       Label  \n",
       "16325      0  \n",
       "16326      0  \n",
       "16327      0  \n",
       "16328      0  \n",
       "16329      0  "
      ]
     },
     "execution_count": 5,
     "metadata": {},
     "output_type": "execute_result"
    }
   ],
   "source": [
    "def create_outperformance_labels(features_df, benchmark_df):\n",
    "    # Calculate future return for S&P 500\n",
    "    benchmark_df[\"Benchmark_Return_Next\"] = benchmark_df[\"Close\"].pct_change().shift(-1)\n",
    "\n",
    "    # Ensure 'Date' columns are of the same type\n",
    "    features_df[\"Date\"] = pd.to_datetime(features_df[\"Date\"])\n",
    "    benchmark_df[\"Date\"] = pd.to_datetime(benchmark_df[\"Date\"])\n",
    "\n",
    "    # Merge benchmark return into stock data\n",
    "    df = features_df.merge(benchmark_df[[\"Date\", \"Benchmark_Return_Next\"]], on=\"Date\", how=\"left\")\n",
    "\n",
    "    # Calculate stock return next week\n",
    "    price_col = \"Adj Close\" if \"Adj Close\" in df.columns else \"Close\"\n",
    "    df[\"Stock_Return_Next\"] = df.groupby(\"Symbol\")[price_col].pct_change().shift(-1)\n",
    "\n",
    "    # Label = 1 if stock outperforms benchmark, else 0\n",
    "    df[\"Label\"] = (df[\"Stock_Return_Next\"] > df[\"Benchmark_Return_Next\"]).astype(int)\n",
    "\n",
    "    return df\n",
    "\n",
    "# Load benchmark data from CSV\n",
    "benchmark_df = pd.read_csv(\"stock_sector_data.csv\", usecols=[\"Date\", \"Symbol\", \"Close\"])\n",
    "benchmark_df = benchmark_df[benchmark_df[\"Symbol\"] == benchmark_symbol].reset_index(drop=True)\n",
    "\n",
    "labeled_df = create_outperformance_labels(features_df, benchmark_df)\n",
    "labeled_df[[\"Date\", \"Symbol\", \"Sector\", \"Stock_Return_Next\", \"Benchmark_Return_Next\", \"Label\"]].tail()\n"
   ]
  },
  {
   "cell_type": "markdown",
   "id": "e6d8aa58",
   "metadata": {},
   "source": [
    "### Train/Test Split & Preprocessing"
   ]
  },
  {
   "cell_type": "code",
   "execution_count": null,
   "id": "2a1231c2",
   "metadata": {},
   "outputs": [
    {
     "name": "stdout",
     "output_type": "stream",
     "text": [
      "Feature columns: ['Open', 'High', 'Low', 'Close', 'Volume', 'Return_1w', 'Return_4w', 'Volatility_4w', 'MA5', 'MA20', 'MA50', 'Volume_Change', 'Volume_MA5', 'MACD', 'MACD_Signal', 'RSI', 'BB_Upper', 'BB_Lower']\n",
      "Feature columns: ['Open', 'High', 'Low', 'Close', 'Volume', 'Return_1w', 'Return_4w', 'Volatility_4w', 'MA5', 'MA20', 'MA50', 'Volume_Change', 'Volume_MA5', 'MACD', 'MACD_Signal', 'RSI', 'BB_Upper', 'BB_Lower']\n"
     ]
    }
   ],
   "source": [
    "from sklearn.model_selection import train_test_split\n",
    "from sklearn.preprocessing import StandardScaler\n",
    "\n",
    "def preprocess_data(df):\n",
    "    # Drop rows where the label is missing (NaN due to shifting)\n",
    "    df = df.dropna(subset=[\"Label\"])\n",
    "    \n",
    "    # Fill remaining missing values with median (safe for numeric features)\n",
    "    df = df.fillna(df.median(numeric_only=True))\n",
    "\n",
    "    # Keep only numeric feature columns\n",
    "    exclude_cols = ['Date', 'Symbol', 'Sector', 'Label', 'Stock_Return_Next', 'Benchmark_Return_Next']\n",
    "    feature_columns = [col for col in df.columns if col not in exclude_cols and df[col].dtype != 'object']\n",
    "    \n",
    "    X = df[feature_columns]\n",
    "    y = df[\"Label\"].astype(int)  # Ensure label is int\n",
    "\n",
    "    # Optional: Scaling (not strictly necessary for Random Forest)\n",
    "    scaler = StandardScaler()\n",
    "    X_scaled = scaler.fit_transform(X)\n",
    "\n",
    "    return X_scaled, y\n",
    "\n",
    "# Split the data: train up to 2023, test after\n",
    "train_data = labeled_df[labeled_df[\"Date\"] < \"2023-01-01\"]\n",
    "test_data = labeled_df[labeled_df[\"Date\"] >= \"2023-01-01\"]\n",
    "\n",
    "X_train, y_train = preprocess_data(train_data)\n",
    "X_test, y_test = preprocess_data(test_data)"
   ]
  },
  {
   "cell_type": "markdown",
   "id": "f4165227",
   "metadata": {},
   "source": [
    "### Train Random Forest Classifier"
   ]
  },
  {
   "cell_type": "code",
   "execution_count": 7,
   "id": "8e16843f",
   "metadata": {},
   "outputs": [
    {
     "name": "stdout",
     "output_type": "stream",
     "text": [
      "Classification Report:\n",
      "              precision    recall  f1-score   support\n",
      "\n",
      "           0       0.53      0.55      0.54      4540\n",
      "           1       0.48      0.46      0.47      4122\n",
      "\n",
      "    accuracy                           0.51      8662\n",
      "   macro avg       0.51      0.51      0.50      8662\n",
      "weighted avg       0.51      0.51      0.51      8662\n",
      "\n",
      "ROC-AUC Score:\n",
      "0.5143680786667436\n"
     ]
    }
   ],
   "source": [
    "from sklearn.ensemble import RandomForestClassifier\n",
    "from sklearn.metrics import classification_report, roc_auc_score\n",
    "\n",
    "# Train Random Forest\n",
    "rf_model = RandomForestClassifier(n_estimators=100, random_state=42)\n",
    "rf_model.fit(X_train, y_train)\n",
    "\n",
    "# Make predictions\n",
    "y_pred = rf_model.predict(X_test)\n",
    "\n",
    "# Evaluation: Metrics\n",
    "print(\"Classification Report:\")\n",
    "print(classification_report(y_test, y_pred))\n",
    "\n",
    "print(\"ROC-AUC Score:\")\n",
    "print(roc_auc_score(y_test, rf_model.predict_proba(X_test)[:, 1]))\n"
   ]
  },
  {
   "cell_type": "markdown",
   "id": "bcd1c230",
   "metadata": {},
   "source": [
    "### Feature Importance Plot"
   ]
  },
  {
   "cell_type": "code",
   "execution_count": 9,
   "id": "351833b6",
   "metadata": {},
   "outputs": [
    {
     "data": {
      "image/png": "[encoded data removed]",
      "text/plain": [
       "<Figure size 1000x600 with 1 Axes>"
      ]
     },
     "metadata": {},
     "output_type": "display_data"
    }
   ],
   "source": [
    "import matplotlib.pyplot as plt\n",
    "import seaborn as sns\n",
    "\n",
    "exclude_cols = ['Date', 'Symbol', 'Sector', 'Label', 'Stock_Return_Next', 'Benchmark_Return_Next']\n",
    "\n",
    "# Get feature importances and names\n",
    "feature_columns = [col for col in train_data.columns if col not in exclude_cols and train_data[col].dtype != 'object']\n",
    "importances = rf_model.feature_importances_\n",
    "\n",
    "# Create DataFrame for plotting\n",
    "feat_imp_df = pd.DataFrame({\n",
    "    'Feature': feature_columns,\n",
    "    'Importance': importances\n",
    "}).sort_values(by='Importance', ascending=False)\n",
    "\n",
    "# Plot\n",
    "plt.figure(figsize=(10, 6))\n",
    "sns.barplot(data=feat_imp_df, x='Importance', y='Feature')\n",
    "plt.title('Top Feature Importances')\n",
    "plt.tight_layout()\n",
    "plt.show()"
   ]
  },
  {
   "cell_type": "code",
   "execution_count": 12,
   "id": "05b0e78e",
   "metadata": {},
   "outputs": [
    {
     "data": {
      "application/vnd.microsoft.datawrangler.viewer.v0+json": {
       "columns": [
        {
         "name": "index",
         "rawType": "int64",
         "type": "integer"
        },
        {
         "name": "Feature",
         "rawType": "object",
         "type": "string"
        },
        {
         "name": "Importance",
         "rawType": "float64",
         "type": "float"
        }
       ],
       "conversionMethod": "pd.DataFrame",
       "ref": "f6418760-f9f8-4104-8f96-98fe0ae6fa63",
       "rows": [
        [
         "11",
         "Volume_Change",
         "0.07404531609688564"
        ],
        [
         "5",
         "Return_1w",
         "0.06654890206988265"
        ],
        [
         "7",
         "Volatility_4w",
         "0.0657312483058376"
        ],
        [
         "15",
         "RSI",
         "0.0639554029843034"
        ],
        [
         "4",
         "Volume",
         "0.06300566915406486"
        ],
        [
         "6",
         "Return_4w",
         "0.06159524598383505"
        ],
        [
         "12",
         "Volume_MA5",
         "0.06094545865804184"
        ],
        [
         "14",
         "MACD_Signal",
         "0.05715614238304336"
        ],
        [
         "13",
         "MACD",
         "0.05662749653814572"
        ],
        [
         "17",
         "BB_Lower",
         "0.05003250201836966"
        ]
       ],
       "shape": {
        "columns": 2,
        "rows": 10
       }
      },
      "text/html": [
       "<div>\n",
       "<style scoped>\n",
       "    .dataframe tbody tr th:only-of-type {\n",
       "        vertical-align: middle;\n",
       "    }\n",
       "\n",
       "    .dataframe tbody tr th {\n",
       "        vertical-align: top;\n",
       "    }\n",
       "\n",
       "    .dataframe thead th {\n",
       "        text-align: right;\n",
       "    }\n",
       "</style>\n",
       "<table border=\"1\" class=\"dataframe\">\n",
       "  <thead>\n",
       "    <tr style=\"text-align: right;\">\n",
       "      <th></th>\n",
       "      <th>Feature</th>\n",
       "      <th>Importance</th>\n",
       "    </tr>\n",
       "  </thead>\n",
       "  <tbody>\n",
       "    <tr>\n",
       "      <th>11</th>\n",
       "      <td>Volume_Change</td>\n",
       "      <td>0.074045</td>\n",
       "    </tr>\n",
       "    <tr>\n",
       "      <th>5</th>\n",
       "      <td>Return_1w</td>\n",
       "      <td>0.066549</td>\n",
       "    </tr>\n",
       "    <tr>\n",
       "      <th>7</th>\n",
       "      <td>Volatility_4w</td>\n",
       "      <td>0.065731</td>\n",
       "    </tr>\n",
       "    <tr>\n",
       "      <th>15</th>\n",
       "      <td>RSI</td>\n",
       "      <td>0.063955</td>\n",
       "    </tr>\n",
       "    <tr>\n",
       "      <th>4</th>\n",
       "      <td>Volume</td>\n",
       "      <td>0.063006</td>\n",
       "    </tr>\n",
       "    <tr>\n",
       "      <th>6</th>\n",
       "      <td>Return_4w</td>\n",
       "      <td>0.061595</td>\n",
       "    </tr>\n",
       "    <tr>\n",
       "      <th>12</th>\n",
       "      <td>Volume_MA5</td>\n",
       "      <td>0.060945</td>\n",
       "    </tr>\n",
       "    <tr>\n",
       "      <th>14</th>\n",
       "      <td>MACD_Signal</td>\n",
       "      <td>0.057156</td>\n",
       "    </tr>\n",
       "    <tr>\n",
       "      <th>13</th>\n",
       "      <td>MACD</td>\n",
       "      <td>0.056627</td>\n",
       "    </tr>\n",
       "    <tr>\n",
       "      <th>17</th>\n",
       "      <td>BB_Lower</td>\n",
       "      <td>0.050033</td>\n",
       "    </tr>\n",
       "  </tbody>\n",
       "</table>\n",
       "</div>"
      ],
      "text/plain": [
       "          Feature  Importance\n",
       "11  Volume_Change    0.074045\n",
       "5       Return_1w    0.066549\n",
       "7   Volatility_4w    0.065731\n",
       "15            RSI    0.063955\n",
       "4          Volume    0.063006\n",
       "6       Return_4w    0.061595\n",
       "12     Volume_MA5    0.060945\n",
       "14    MACD_Signal    0.057156\n",
       "13           MACD    0.056627\n",
       "17       BB_Lower    0.050033"
      ]
     },
     "execution_count": 12,
     "metadata": {},
     "output_type": "execute_result"
    }
   ],
   "source": [
    "feat_imp_df.sort_values(by='Importance', ascending=False).head(10)"
   ]
  },
  {
   "cell_type": "markdown",
   "id": "ff9b7a11",
   "metadata": {},
   "source": [
    "### Correlation Analysis"
   ]
  },
  {
   "cell_type": "code",
   "execution_count": 10,
   "id": "5b6a2b45",
   "metadata": {},
   "outputs": [
    {
     "data": {
      "image/png": "[encoded data removed]",
      "text/plain": [
       "<Figure size 1200x1000 with 2 Axes>"
      ]
     },
     "metadata": {},
     "output_type": "display_data"
    }
   ],
   "source": [
    "# Compute correlation matrix on the training features\n",
    "exclude_cols = ['Date', 'Symbol', 'Sector', 'Label', 'Stock_Return_Next', 'Benchmark_Return_Next']\n",
    "\n",
    "numeric_cols = [col for col in train_data.columns if col not in exclude_cols and train_data[col].dtype != 'object']\n",
    "corr_matrix = train_data[numeric_cols].corr()\n",
    "\n",
    "# Plot heatmap\n",
    "plt.figure(figsize=(12, 10))\n",
    "sns.heatmap(corr_matrix, annot=False, cmap='coolwarm', center=0)\n",
    "plt.title('Feature Correlation Matrix')\n",
    "plt.tight_layout()\n",
    "plt.show()"
   ]
  },
  {
   "cell_type": "markdown",
   "id": "25bb11e4",
   "metadata": {},
   "source": [
    "### Reduce Multicollinearity"
   ]
  },
  {
   "cell_type": "code",
   "execution_count": 13,
   "id": "79c70d4b",
   "metadata": {},
   "outputs": [],
   "source": [
    "selected_features = [\n",
    "    'Volume_Change',\n",
    "    'Return_1w',\n",
    "    'Return_4w',\n",
    "    'Volatility_4w',\n",
    "    'Volume',\n",
    "    'Volume_MA5'\n",
    "]"
   ]
  },
  {
   "cell_type": "markdown",
   "id": "8165cf9d",
   "metadata": {},
   "source": [
    "### Train/Test Split & Preprocessing after Reduce Multicollinearity"
   ]
  },
  {
   "cell_type": "code",
   "execution_count": 14,
   "id": "7511d344",
   "metadata": {},
   "outputs": [],
   "source": [
    "def preprocess_data(df):\n",
    "    # Drop rows where the label is missing (NaN due to shifting)\n",
    "    df = df.dropna(subset=[\"Label\"])\n",
    "    \n",
    "    # Fill remaining missing values with median (safe for numeric features)\n",
    "    df = df.fillna(df.median(numeric_only=True))\n",
    "\n",
    "    # Use only selected features\n",
    "    X = df[selected_features]\n",
    "    y = df[\"Label\"].astype(int)  # Ensure label is int\n",
    "\n",
    "    scaler = StandardScaler()\n",
    "    X_scaled = scaler.fit_transform(X)\n",
    "\n",
    "    return X_scaled, y\n",
    "\n",
    "# Split the data: train up to 2023, test after\n",
    "X_train, y_train = preprocess_data(train_data)\n",
    "X_test, y_test = preprocess_data(test_data)\n"
   ]
  },
  {
   "cell_type": "code",
   "execution_count": 15,
   "id": "8254cc33",
   "metadata": {},
   "outputs": [
    {
     "name": "stdout",
     "output_type": "stream",
     "text": [
      "Classification Report:\n",
      "              precision    recall  f1-score   support\n",
      "\n",
      "           0       0.53      0.51      0.52      4540\n",
      "           1       0.48      0.49      0.48      4122\n",
      "\n",
      "    accuracy                           0.50      8662\n",
      "   macro avg       0.50      0.50      0.50      8662\n",
      "weighted avg       0.50      0.50      0.50      8662\n",
      "\n",
      "ROC-AUC Score:\n",
      "0.5055972625666083\n"
     ]
    }
   ],
   "source": [
    "from sklearn.ensemble import RandomForestClassifier\n",
    "from sklearn.metrics import classification_report, roc_auc_score\n",
    "\n",
    "# Train Random Forest\n",
    "rf_model = RandomForestClassifier(n_estimators=100, random_state=42)\n",
    "rf_model.fit(X_train, y_train)\n",
    "\n",
    "# Make predictions\n",
    "y_pred = rf_model.predict(X_test)\n",
    "\n",
    "# Evaluation: Metrics\n",
    "print(\"Classification Report:\")\n",
    "print(classification_report(y_test, y_pred))\n",
    "\n",
    "print(\"ROC-AUC Score:\")\n",
    "print(roc_auc_score(y_test, rf_model.predict_proba(X_test)[:, 1]))\n"
   ]
  },
  {
   "cell_type": "code",
   "execution_count": 17,
   "id": "0e7af898",
   "metadata": {},
   "outputs": [
    {
     "name": "stdout",
     "output_type": "stream",
     "text": [
      "Combination: ('Return_1w',), F1 Score: 0.44703444703444706, Precision: 0.47944444444444445\n",
      "Time taken: 21.27 seconds\n",
      "Combination: ('Return_4w',), F1 Score: 0.41633306645316254, Precision: 0.4626334519572954\n",
      "Time taken: 21.58 seconds\n",
      "Combination: ('Volume_Change',), F1 Score: 0.481111903064861, Precision: 0.4713687150837989\n",
      "Time taken: 23.12 seconds\n",
      "Combination: ('Volume',), F1 Score: 0.6354355343322905, Precision: 0.4809322033898305\n",
      "Time taken: 23.09 seconds\n",
      "Combination: ('Volume_MA5',), F1 Score: 0.5893792071802543, Precision: 0.47946455734712506\n",
      "Time taken: 24.63 seconds\n",
      "Combination: ('Volatility_4w',), F1 Score: 0.6384465388365291, Precision: 0.47996579526020033\n",
      "Time taken: 24.77 seconds\n",
      "Combination: ('Volume_Change', 'Return_1w'), F1 Score: 0.4882297551789077, Precision: 0.4741655235482396\n",
      "Time taken: 37.28 seconds\n",
      "Combination: ('Volume_Change', 'Volume'), F1 Score: 0.5458311755567063, Precision: 0.4762335080426532\n",
      "Time taken: 37.35 seconds\n",
      "Combination: ('Return_1w', 'Return_4w'), F1 Score: 0.36932849364791287, Precision: 0.4903614457831325\n",
      "Time taken: 37.91 seconds\n",
      "Combination: ('Volume_Change', 'Volume_MA5'), F1 Score: 0.4589961770871871, Precision: 0.4667669927263607\n",
      "Time taken: 38.56 seconds\n",
      "Combination: ('Volume_Change', 'Return_4w'), F1 Score: 0.32302295918367346, Precision: 0.4711627906976744\n",
      "Time taken: 41.20 seconds\n",
      "Combination: ('Volume_Change', 'Volatility_4w'), F1 Score: 0.3740524781341108, Precision: 0.46859021183345506\n",
      "Time taken: 41.64 seconds\n",
      "Combination: ('Return_1w', 'Volume'), F1 Score: 0.6200571082460846, Precision: 0.4819098856758574\n",
      "Time taken: 38.61 seconds\n",
      "Combination: ('Return_4w', 'Volatility_4w'), F1 Score: 0.6361426256077796, Precision: 0.4776101241177902\n",
      "Time taken: 37.27 seconds\n",
      "Combination: ('Return_1w', 'Volume_MA5'), F1 Score: 0.5958827893175074, Precision: 0.48228760132092463\n",
      "Time taken: 37.74 seconds\n",
      "Combination: ('Return_4w', 'Volume'), F1 Score: 0.6145349346892259, Precision: 0.48112560054907344\n",
      "Time taken: 36.85 seconds\n",
      "Combination: ('Return_1w', 'Volatility_4w'), F1 Score: 0.4526813880126183, Precision: 0.4939759036144578\n",
      "Time taken: 40.35 seconds\n",
      "Combination: ('Return_4w', 'Volume_MA5'), F1 Score: 0.5304072496997488, Precision: 0.4822314869962279\n",
      "Time taken: 37.03 seconds\n",
      "Combination: ('Volatility_4w', 'Volume_MA5'), F1 Score: 0.5937703393770339, Precision: 0.4813809739182873\n",
      "Time taken: 37.36 seconds\n",
      "Combination: ('Volume', 'Volume_MA5'), F1 Score: 0.45026847353618, Precision: 0.47594594594594597\n",
      "Time taken: 37.30 seconds\n",
      "Combination: ('Volatility_4w', 'Volume'), F1 Score: 0.6397317412284289, Precision: 0.4825416409623689\n",
      "Time taken: 38.13 seconds\n",
      "Combination: ('Volume_Change', 'Return_1w', 'Return_4w'), F1 Score: 0.4595744680851064, Precision: 0.47466390899689764\n",
      "Time taken: 54.36 seconds\n",
      "Combination: ('Volume_Change', 'Return_1w', 'Volatility_4w'), F1 Score: 0.3188405797101449, Precision: 0.46407046824292997\n",
      "Time taken: 55.50 seconds\n",
      "Combination: ('Volume_Change', 'Return_1w', 'Volume'), F1 Score: 0.5148160572514816, Precision: 0.47749429578925534\n",
      "Time taken: 55.22 seconds\n",
      "Combination: ('Volume_Change', 'Return_4w', 'Volatility_4w'), F1 Score: 0.3385232002466471, Precision: 0.4642706131078224\n",
      "Time taken: 53.96 seconds\n",
      "Combination: ('Volume_Change', 'Volatility_4w', 'Volume'), F1 Score: 0.5136418866674031, Precision: 0.4715067937538025\n",
      "Time taken: 53.01 seconds\n",
      "Combination: ('Volume_Change', 'Return_1w', 'Volume_MA5'), F1 Score: 0.4367576034460253, Precision: 0.47273241028539137\n",
      "Time taken: 55.92 seconds\n",
      "Combination: ('Volume_Change', 'Return_4w', 'Volume_MA5'), F1 Score: 0.43967758710348415, Precision: 0.47366946778711483\n",
      "Time taken: 54.87 seconds\n",
      "Combination: ('Volume_Change', 'Return_4w', 'Volume'), F1 Score: 0.519013698630137, Precision: 0.47331601039376375\n",
      "Time taken: 57.02 seconds\n",
      "Combination: ('Volume_Change', 'Volatility_4w', 'Volume_MA5'), F1 Score: 0.41624642224342373, Precision: 0.4749611197511664\n",
      "Time taken: 56.67 seconds\n",
      "Combination: ('Volume_Change', 'Volume', 'Volume_MA5'), F1 Score: 0.528322440087146, Precision: 0.4794385132463424\n",
      "Time taken: 52.50 seconds\n",
      "Combination: ('Return_1w', 'Return_4w', 'Volume'), F1 Score: 0.3193388429752066, Precision: 0.5010373443983402\n",
      "Time taken: 55.52 seconds\n",
      "Combination: ('Return_1w', 'Return_4w', 'Volatility_4w'), F1 Score: 0.54200193112327, Precision: 0.48586266589728794\n",
      "Time taken: 57.36 seconds\n",
      "Combination: ('Return_1w', 'Return_4w', 'Volume_MA5'), F1 Score: 0.4483460559796438, Precision: 0.47137506688068487\n",
      "Time taken: 54.35 seconds\n",
      "Combination: ('Return_1w', 'Volatility_4w', 'Volume_MA5'), F1 Score: 0.5922954948232441, Precision: 0.48113350507652675\n",
      "Time taken: 54.36 seconds\n",
      "Combination: ('Return_1w', 'Volatility_4w', 'Volume'), F1 Score: 0.6379211410771375, Precision: 0.4817382691593413\n",
      "Time taken: 55.47 seconds\n",
      "Combination: ('Return_4w', 'Volatility_4w', 'Volume_MA5'), F1 Score: 0.5645209431897323, Precision: 0.4784955304435824\n",
      "Time taken: 52.23 seconds\n",
      "Combination: ('Return_4w', 'Volume', 'Volume_MA5'), F1 Score: 0.5694729637234771, Precision: 0.476986076986077\n",
      "Time taken: 52.11 seconds\n",
      "Combination: ('Volatility_4w', 'Volume', 'Volume_MA5'), F1 Score: 0.6290512174643157, Precision: 0.48099640472521826\n",
      "Time taken: 52.17 seconds\n",
      "Combination: ('Return_1w', 'Volume', 'Volume_MA5'), F1 Score: 0.5680926216640503, Precision: 0.4769357495881384\n",
      "Time taken: 55.76 seconds\n",
      "Combination: ('Return_4w', 'Volatility_4w', 'Volume'), F1 Score: 0.6317963972897042, Precision: 0.47907268170426065\n",
      "Time taken: 56.04 seconds\n",
      "Combination: ('Volume_Change', 'Return_1w', 'Return_4w', 'Volatility_4w'), F1 Score: 0.3181673560292714, Precision: 0.46210720887245843\n",
      "Time taken: 69.17 seconds\n",
      "Combination: ('Volume_Change', 'Return_1w', 'Return_4w', 'Volume'), F1 Score: 0.5146731880835927, Precision: 0.47496922445629874\n",
      "Time taken: 67.57 seconds\n",
      "Combination: ('Volume_Change', 'Return_1w', 'Return_4w', 'Volume_MA5'), F1 Score: 0.40963855421686746, Precision: 0.47725072604065827\n",
      "Time taken: 70.81 seconds\n",
      "Combination: ('Volume_Change', 'Return_1w', 'Volatility_4w', 'Volume'), F1 Score: 0.5300452293775576, Precision: 0.476568551510457\n",
      "Time taken: 71.03 seconds\n",
      "Combination: ('Volume_Change', 'Return_1w', 'Volatility_4w', 'Volume_MA5'), F1 Score: 0.44478884153428905, Precision: 0.4755592377796189\n",
      "Time taken: 66.68 seconds\n",
      "Combination: ('Volume_Change', 'Return_1w', 'Volume', 'Volume_MA5'), F1 Score: 0.47368421052631576, Precision: 0.47801383399209485\n",
      "Time taken: 69.21 seconds\n",
      "Combination: ('Volume_Change', 'Return_4w', 'Volatility_4w', 'Volume'), F1 Score: 0.4848698928529377, Precision: 0.4710592541752459\n",
      "Time taken: 69.92 seconds\n",
      "Combination: ('Volume_Change', 'Return_4w', 'Volatility_4w', 'Volume_MA5'), F1 Score: 0.4328573300144111, Precision: 0.47052121902591854\n",
      "Time taken: 67.77 seconds\n",
      "Combination: ('Return_1w', 'Return_4w', 'Volatility_4w', 'Volume_MA5'), F1 Score: 0.5603284269550416, Precision: 0.4770673486786019\n",
      "Time taken: 66.37 seconds\n",
      "Combination: ('Volume_Change', 'Return_4w', 'Volume', 'Volume_MA5'), F1 Score: 0.4909772674009843, Precision: 0.4748413417951043\n",
      "Time taken: 69.20 seconds\n",
      "Combination: ('Return_1w', 'Return_4w', 'Volatility_4w', 'Volume'), F1 Score: 0.46467777347281414, Precision: 0.4968240817453742\n",
      "Time taken: 69.63 seconds\n",
      "Combination: ('Volume_Change', 'Volatility_4w', 'Volume', 'Volume_MA5'), F1 Score: 0.5254833040421792, Precision: 0.48012846246487356\n",
      "Time taken: 69.94 seconds\n",
      "Combination: ('Return_1w', 'Return_4w', 'Volume', 'Volume_MA5'), F1 Score: 0.5092402464065708, Precision: 0.4806201550387597\n",
      "Time taken: 63.53 seconds\n",
      "Combination: ('Return_1w', 'Volatility_4w', 'Volume', 'Volume_MA5'), F1 Score: 0.552283222165213, Precision: 0.478570158278499\n",
      "Time taken: 65.96 seconds\n",
      "Combination: ('Return_4w', 'Volatility_4w', 'Volume', 'Volume_MA5'), F1 Score: 0.5495855081363218, Precision: 0.4753053637812002\n",
      "Time taken: 62.09 seconds\n",
      "Combination: ('Volume_Change', 'Return_1w', 'Return_4w', 'Volatility_4w', 'Volume'), F1 Score: 0.4853586247777119, Precision: 0.4746116392302342\n",
      "Time taken: 75.36 seconds\n",
      "Combination: ('Volume_Change', 'Return_1w', 'Return_4w', 'Volatility_4w', 'Volume_MA5'), F1 Score: 0.40118160078773385, Precision: 0.4774020756611985\n",
      "Time taken: 71.43 seconds\n",
      "Combination: ('Volume_Change', 'Return_1w', 'Return_4w', 'Volume', 'Volume_MA5'), F1 Score: 0.47225617208506476, Precision: 0.47586206896551725\n",
      "Time taken: 68.42 seconds\n",
      "Combination: ('Volume_Change', 'Return_1w', 'Volatility_4w', 'Volume', 'Volume_MA5'), F1 Score: 0.4826676262444524, Precision: 0.47734282325029653\n",
      "Time taken: 68.16 seconds\n",
      "Combination: ('Return_1w', 'Return_4w', 'Volatility_4w', 'Volume', 'Volume_MA5'), F1 Score: 0.5849706676599311, Precision: 0.47468641378268095\n",
      "Time taken: 59.74 seconds\n",
      "Combination: ('Volume_Change', 'Return_4w', 'Volatility_4w', 'Volume', 'Volume_MA5'), F1 Score: 0.4876441515650741, Precision: 0.473491773308958\n",
      "Time taken: 61.86 seconds\n",
      "Combination: ('Volume_Change', 'Return_1w', 'Return_4w', 'Volatility_4w', 'Volume', 'Volume_MA5'), F1 Score: 0.47650193798449614, Precision: 0.47581035316884374\n",
      "Time taken: 69.50 seconds\n",
      "Best combination: ('Volatility_4w', 'Volume')\n",
      "Best F1 Score: 0.6397317412284289\n"
     ]
    }
   ],
   "source": [
    "from itertools import combinations\n",
    "from sklearn.metrics import f1_score\n",
    "from joblib import Parallel, delayed\n",
    "import time\n",
    "\n",
    "import matplotlib.pyplot as plt\n",
    "\n",
    "# Store the best combination and its score\n",
    "best_combination = None\n",
    "best_score = 0\n",
    "scores = []\n",
    "\n",
    "# Function to evaluate a combination of features\n",
    "def evaluate_combination(combo):\n",
    "    # Preprocess data with the current combination of features\n",
    "    start_time = time.time()\n",
    "    X_train_combo = train_data[list(combo)]\n",
    "    X_test_combo = test_data[list(combo)]\n",
    "\n",
    "    rf_model = RandomForestClassifier(\n",
    "        max_depth=10,\n",
    "        max_features=None,\n",
    "        min_samples_leaf=2,\n",
    "        min_samples_split=2,\n",
    "        n_estimators=1000,\n",
    "        bootstrap=False\n",
    "    )\n",
    "    # Train the model\n",
    "    rf_model.fit(X_train_combo, y_train)\n",
    "\n",
    "    # Predict and evaluate\n",
    "    y_pred_combo = rf_model.predict(X_test_combo)\n",
    "    score = f1_score(y_test, y_pred_combo)\n",
    "    presision = classification_report(y_test, y_pred_combo, output_dict=True)[\"1\"][\"precision\"]\n",
    "    \n",
    "    print(f\"Combination: {combo}, F1 Score: {score}, Precision: {presision}\")\n",
    "    print(f\"Time taken: {time.time() - start_time:.2f} seconds\")\n",
    "\n",
    "    return combo, score\n",
    "\n",
    "# Run combinations in parallel\n",
    "results = Parallel(n_jobs=-1)(\n",
    "    delayed(evaluate_combination)(combo)\n",
    "    for r in range(1, len(selected_features) + 1)\n",
    "    for combo in combinations(selected_features, r)\n",
    ")\n",
    "\n",
    "# Collect and rank results\n",
    "scores = sorted(results, key=lambda x: x[1], reverse=True)\n",
    "best_combination, best_score = scores[0]\n",
    "\n",
    "print(f\"Best combination: {best_combination}\")\n",
    "print(f\"Best F1 Score: {best_score}\")"
   ]
  },
  {
   "cell_type": "markdown",
   "id": "a3fbbf03",
   "metadata": {},
   "source": [
    "### Hyperparameter Tuning"
   ]
  },
  {
   "cell_type": "code",
   "execution_count": null,
   "id": "8668eb26",
   "metadata": {},
   "outputs": [],
   "source": [
    "from sklearn.model_selection import GridSearchCV\n",
    "\n",
    "param_grid = {\n",
    "    'n_estimators': [100, 200, 300, 400],\n",
    "    'max_depth': [None, 10, 20],\n",
    "    'min_samples_split': [2, 3, 4],\n",
    "    'min_samples_leaf': [1, 2, 4],\n",
    "    'max_features': [None],\n",
    "    'bootstrap': [False]\n",
    "}\n",
    "\n",
    "grid = GridSearchCV(RandomForestClassifier(), param_grid, cv=3, scoring='f1', n_jobs=-1)\n",
    "grid.fit(X_train, y_train)\n",
    "print(\"Best parameters found: \", grid.best_params_)"
   ]
  },
  {
   "cell_type": "code",
   "execution_count": null,
   "id": "aeb93b41",
   "metadata": {},
   "outputs": [],
   "source": [
    "from sklearn.model_selection import RandomizedSearchCV\n",
    "from scipy.stats import randint\n",
    "\n",
    "# Define the parameter distribution\n",
    "param_dist = {\n",
    "    'n_estimators': randint(50, 200),\n",
    "    'max_depth': [None, 10, 20, 30],\n",
    "    'min_samples_split': randint(2, 10),\n",
    "    'min_samples_leaf': randint(1, 5),\n",
    "    'max_features': ['sqrt', 'log2', None],\n",
    "}\n",
    "\n",
    "# Perform Randomized Search\n",
    "random_search = RandomizedSearchCV(\n",
    "    RandomForestClassifier(random_state=42),\n",
    "    param_distributions=param_dist,\n",
    "    n_iter=100,  # Number of parameter settings sampled\n",
    "    scoring='f1',\n",
    "    cv=3,\n",
    "    random_state=42,\n",
    "    n_jobs=-1\n",
    ")\n",
    "\n",
    "random_search.fit(X_train, y_train)\n",
    "\n",
    "# Output the best parameters\n",
    "print(\"Best parameters found: \", random_search.best_params_)"
   ]
  },
  {
   "cell_type": "code",
   "execution_count": null,
   "id": "1d0ade7a",
   "metadata": {},
   "outputs": [],
   "source": [
    "# Apply the specified hyperparameters and best feature combination\n",
    "rf_model = RandomForestClassifier(\n",
    "    max_depth=10,\n",
    "    min_samples_leaf=1,\n",
    "    min_samples_split=2,\n",
    "    n_estimators=300,\n",
    "    random_state=42\n",
    ")\n",
    "\n",
    "# Use the best combination of features\n",
    "best_features = ['Return_4w', 'Volatility_4w', 'RSI', 'Close', 'SMA_10', 'BB_Upper']\n",
    "\n",
    "# Train the model\n",
    "rf_model.fit(X_train[:, [feature_columns.index(f) for f in best_features]], y_train)\n",
    "\n",
    "# Make predictions\n",
    "y_pred = rf_model.predict(X_test[:, [feature_columns.index(f) for f in best_features]])\n",
    "\n",
    "# Evaluation: Metrics\n",
    "print(\"Classification Report:\")\n",
    "print(classification_report(y_test, y_pred))\n",
    "\n",
    "print(\"ROC-AUC Score:\")\n",
    "print(roc_auc_score(y_test, rf_model.predict_proba(X_test[:, [feature_columns.index(f) for f in best_features]])[:, 1]))"
   ]
  },
  {
   "cell_type": "markdown",
   "id": "34af19f1",
   "metadata": {},
   "source": [
    "###  Cross-Validation Evaluation"
   ]
  },
  {
   "cell_type": "code",
   "execution_count": 18,
   "id": "da614a05",
   "metadata": {},
   "outputs": [
    {
     "name": "stdout",
     "output_type": "stream",
     "text": [
      "Cross-Validation F1 Scores: [0.50393701 0.50702028 0.51086142 0.47542305 0.50710546]\n",
      "Mean F1 Score: 0.5008694435643928\n"
     ]
    }
   ],
   "source": [
    "from sklearn.model_selection import cross_val_score\n",
    "\n",
    "# Perform cross-validation\n",
    "cv_scores = cross_val_score(rf_model, X_train, y_train, cv=TimeSeriesSplit(n_splits=5), scoring='f1')\n",
    "\n",
    "# Print the results\n",
    "print(\"Cross-Validation F1 Scores:\", cv_scores)\n",
    "print(\"Mean F1 Score:\", np.mean(cv_scores))"
   ]
  }
 ],
 "metadata": {
  "kernelspec": {
   "display_name": ".venv",
   "language": "python",
   "name": "python3"
  },
  "language_info": {
   "codemirror_mode": {
    "name": "ipython",
    "version": 3
   },
   "file_extension": ".py",
   "mimetype": "text/x-python",
   "name": "python",
   "nbconvert_exporter": "python",
   "pygments_lexer": "ipython3",
   "version": "3.12.3"
  }
 },
 "nbformat": 4,
 "nbformat_minor": 5
}
