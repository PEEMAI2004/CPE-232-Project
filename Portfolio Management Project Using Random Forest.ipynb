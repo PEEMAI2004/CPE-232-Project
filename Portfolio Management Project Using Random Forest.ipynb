{
 "cells": [
  {
   "cell_type": "code",
   "execution_count": 81,
   "id": "4978c664",
   "metadata": {},
   "outputs": [],
   "source": [
    "import yfinance as yf\n",
    "import pandas as pd\n",
    "import numpy as np\n",
    "import matplotlib.pyplot as plt\n",
    "import seaborn as sns\n",
    "from ta.momentum import RSIIndicator\n",
    "from ta.trend import MACD, SMAIndicator\n",
    "from ta.volatility import BollingerBands\n",
    "from sklearn.ensemble import RandomForestClassifier\n",
    "from sklearn.model_selection import train_test_split, TimeSeriesSplit\n",
    "from sklearn.metrics import classification_report, confusion_matrix, roc_auc_score, roc_curve\n",
    "import datetime"
   ]
  },
  {
   "cell_type": "code",
   "execution_count": 82,
   "id": "7758d79b",
   "metadata": {},
   "outputs": [],
   "source": [
    "# Project time frame\n",
    "start_date = \"2020-01-01\"\n",
    "end_date = \"2025-05-01\"\n",
    "\n",
    "# Benchmark index\n",
    "benchmark_symbol = \"^GSPC\"\n",
    "\n",
    "# Top 10 symbols from each sector (replace with your actual tickers if needed)\n",
    "sectors = {\n",
    "    \"Technology\": [\"AAPL\", \"MSFT\", \"NVDA\", \"AVGO\", \"ADBE\", \"CRM\", \"AMD\", \"CSCO\", \"INTC\", \"ORCL\"],\n",
    "    \"Communication\": [\"GOOGL\", \"META\", \"NFLX\", \"TMUS\", \"DIS\", \"VZ\", \"T\", \"CHTR\", \"CMCSA\", \"WBD\"],\n",
    "    \"Health\": [\"JNJ\", \"PFE\", \"ABBV\", \"LLY\", \"MRK\", \"TMO\", \"BMY\", \"UNH\", \"ABT\", \"CVS\"],\n",
    "    \"Financials\": [\"JPM\", \"BAC\", \"WFC\", \"C\", \"GS\", \"MS\", \"AXP\", \"USB\", \"BK\", \"SCHW\"],\n",
    "    \"Defensive\": [\"PG\", \"KO\", \"PEP\", \"WMT\", \"COST\", \"CL\", \"MO\", \"KMB\", \"MDLZ\", \"KR\"],\n",
    "    \"Cyclical\": [\"AMZN\", \"HD\", \"LOW\", \"MCD\", \"NKE\", \"SBUX\", \"BKNG\", \"TGT\", \"EBAY\", \"GM\"],\n",
    "    \"Property\": [\"PLD\", \"AMT\", \"CCI\", \"EQIX\", \"DLR\", \"SPG\", \"O\", \"PSA\", \"VTR\", \"EXR\"]\n",
    "}\n",
    "\n",
    "# Flatten list of all tickers\n",
    "all_symbols = [symbol for group in sectors.values() for symbol in group]"
   ]
  },
  {
   "cell_type": "markdown",
   "id": "8893f04a",
   "metadata": {},
   "source": [
    "### Load from CSV"
   ]
  },
  {
   "cell_type": "code",
   "execution_count": 83,
   "id": "4fad8a99",
   "metadata": {},
   "outputs": [
    {
     "name": "stdout",
     "output_type": "stream",
     "text": [
      "Loaded dataset from CSV.\n"
     ]
    }
   ],
   "source": [
    "# Load dataset from CSV\n",
    "import os\n",
    "\n",
    "if os.path.exists(\"stock_sector_data.csv\"):\n",
    "    stock_df = pd.read_csv(\"stock_sector_data.csv\", parse_dates=[\"Date\"])\n",
    "    print(\"Loaded dataset from CSV.\")\n",
    "else:\n",
    "    print(\"CSV file not found. Please run the download step.\")\n"
   ]
  },
  {
   "cell_type": "markdown",
   "id": "23bd235b",
   "metadata": {},
   "source": [
    "### Feature Engineering — Add Technical Indicators\n"
   ]
  },
  {
   "cell_type": "code",
   "execution_count": 84,
   "id": "2433a1aa",
   "metadata": {},
   "outputs": [
    {
     "data": {
      "application/vnd.microsoft.datawrangler.viewer.v0+json": {
       "columns": [
        {
         "name": "index",
         "rawType": "int64",
         "type": "integer"
        },
        {
         "name": "Date",
         "rawType": "datetime64[ns]",
         "type": "datetime"
        },
        {
         "name": "Open",
         "rawType": "float64",
         "type": "float"
        },
        {
         "name": "High",
         "rawType": "float64",
         "type": "float"
        },
        {
         "name": "Low",
         "rawType": "float64",
         "type": "float"
        },
        {
         "name": "Close",
         "rawType": "float64",
         "type": "float"
        },
        {
         "name": "Volume",
         "rawType": "int64",
         "type": "integer"
        },
        {
         "name": "Symbol",
         "rawType": "object",
         "type": "string"
        },
        {
         "name": "Sector",
         "rawType": "object",
         "type": "string"
        },
        {
         "name": "Return_1w",
         "rawType": "float64",
         "type": "float"
        },
        {
         "name": "Return_4w",
         "rawType": "float64",
         "type": "float"
        },
        {
         "name": "Volatility_4w",
         "rawType": "float64",
         "type": "float"
        },
        {
         "name": "RSI",
         "rawType": "float64",
         "type": "float"
        },
        {
         "name": "SMA_10",
         "rawType": "float64",
         "type": "float"
        },
        {
         "name": "MACD",
         "rawType": "float64",
         "type": "float"
        },
        {
         "name": "BB_Upper",
         "rawType": "float64",
         "type": "float"
        },
        {
         "name": "BB_Lower",
         "rawType": "float64",
         "type": "float"
        }
       ],
       "conversionMethod": "pd.DataFrame",
       "ref": "89d4ed95-6fd3-4f8a-ab8a-faaf907bb925",
       "rows": [
        [
         "33",
         "2020-08-19 00:00:00",
         "113.094381154047",
         "125.5780873927384",
         "112.73115927543915",
         "121.71669006347656",
         "1167933200",
         "AAPL",
         "Technology",
         "0.08015122719760481",
         "0.340983286597379",
         "7.145863492686982",
         "85.45011298591062",
         "99.59019775390625",
         "3.1919352613297534",
         "117.63156760592838",
         "57.109403005643884"
        ],
        [
         "34",
         "2020-08-26 00:00:00",
         "123.03799113638928",
         "131.44334712754875",
         "120.7489426812245",
         "130.83877563476562",
         "883855600",
         "AAPL",
         "Technology",
         "0.07494523196885972",
         "0.2257506778534979",
         "10.646745149867996",
         "87.80706718600769",
         "103.75508117675781",
         "3.959343175111764",
         "124.97614175988312",
         "55.882606866825846"
        ],
        [
         "35",
         "2020-09-02 00:00:00",
         "134.1638362806378",
         "134.54412420603205",
         "108.12870208047062",
         "110.0106430053711",
         "1021692400",
         "AAPL",
         "Technology",
         "-0.15918929635611945",
         "0.033356868043232124",
         "9.453152578980427",
         "62.79467557682684",
         "105.87925033569336",
         "2.828668839956885",
         "126.16956926984372",
         "59.17746594744145"
        ],
        [
         "36",
         "2020-09-09 00:00:00",
         "114.34008150163802",
         "117.4993993684256",
         "107.26086249399847",
         "112.66291046142578",
         "864867300",
         "AAPL",
         "Technology",
         "0.024109189652906426",
         "-0.00019478897184344035",
         "9.457900640313623",
         "64.1934258502899",
         "108.07665328979492",
         "2.0596023106220116",
         "127.42127926893852",
         "62.43149554185248"
        ],
        [
         "37",
         "2020-09-16 00:00:00",
         "112.36064641200458",
         "113.11146927089162",
         "100.53269232098724",
         "109.02580261230467",
         "998564100",
         "AAPL",
         "Technology",
         "-0.03228309861892309",
         "-0.1042657949748178",
         "10.251877724227281",
         "60.81680545942091",
         "109.53220138549804",
         "1.151432797628262",
         "128.05497919904835",
         "65.47921574724072"
        ]
       ],
       "shape": {
        "columns": 16,
        "rows": 5
       }
      },
      "text/html": [
       "<div>\n",
       "<style scoped>\n",
       "    .dataframe tbody tr th:only-of-type {\n",
       "        vertical-align: middle;\n",
       "    }\n",
       "\n",
       "    .dataframe tbody tr th {\n",
       "        vertical-align: top;\n",
       "    }\n",
       "\n",
       "    .dataframe thead th {\n",
       "        text-align: right;\n",
       "    }\n",
       "</style>\n",
       "<table border=\"1\" class=\"dataframe\">\n",
       "  <thead>\n",
       "    <tr style=\"text-align: right;\">\n",
       "      <th></th>\n",
       "      <th>Date</th>\n",
       "      <th>Open</th>\n",
       "      <th>High</th>\n",
       "      <th>Low</th>\n",
       "      <th>Close</th>\n",
       "      <th>Volume</th>\n",
       "      <th>Symbol</th>\n",
       "      <th>Sector</th>\n",
       "      <th>Return_1w</th>\n",
       "      <th>Return_4w</th>\n",
       "      <th>Volatility_4w</th>\n",
       "      <th>RSI</th>\n",
       "      <th>SMA_10</th>\n",
       "      <th>MACD</th>\n",
       "      <th>BB_Upper</th>\n",
       "      <th>BB_Lower</th>\n",
       "    </tr>\n",
       "  </thead>\n",
       "  <tbody>\n",
       "    <tr>\n",
       "      <th>33</th>\n",
       "      <td>2020-08-19</td>\n",
       "      <td>113.094381</td>\n",
       "      <td>125.578087</td>\n",
       "      <td>112.731159</td>\n",
       "      <td>121.716690</td>\n",
       "      <td>1167933200</td>\n",
       "      <td>AAPL</td>\n",
       "      <td>Technology</td>\n",
       "      <td>0.080151</td>\n",
       "      <td>0.340983</td>\n",
       "      <td>7.145863</td>\n",
       "      <td>85.450113</td>\n",
       "      <td>99.590198</td>\n",
       "      <td>3.191935</td>\n",
       "      <td>117.631568</td>\n",
       "      <td>57.109403</td>\n",
       "    </tr>\n",
       "    <tr>\n",
       "      <th>34</th>\n",
       "      <td>2020-08-26</td>\n",
       "      <td>123.037991</td>\n",
       "      <td>131.443347</td>\n",
       "      <td>120.748943</td>\n",
       "      <td>130.838776</td>\n",
       "      <td>883855600</td>\n",
       "      <td>AAPL</td>\n",
       "      <td>Technology</td>\n",
       "      <td>0.074945</td>\n",
       "      <td>0.225751</td>\n",
       "      <td>10.646745</td>\n",
       "      <td>87.807067</td>\n",
       "      <td>103.755081</td>\n",
       "      <td>3.959343</td>\n",
       "      <td>124.976142</td>\n",
       "      <td>55.882607</td>\n",
       "    </tr>\n",
       "    <tr>\n",
       "      <th>35</th>\n",
       "      <td>2020-09-02</td>\n",
       "      <td>134.163836</td>\n",
       "      <td>134.544124</td>\n",
       "      <td>108.128702</td>\n",
       "      <td>110.010643</td>\n",
       "      <td>1021692400</td>\n",
       "      <td>AAPL</td>\n",
       "      <td>Technology</td>\n",
       "      <td>-0.159189</td>\n",
       "      <td>0.033357</td>\n",
       "      <td>9.453153</td>\n",
       "      <td>62.794676</td>\n",
       "      <td>105.879250</td>\n",
       "      <td>2.828669</td>\n",
       "      <td>126.169569</td>\n",
       "      <td>59.177466</td>\n",
       "    </tr>\n",
       "    <tr>\n",
       "      <th>36</th>\n",
       "      <td>2020-09-09</td>\n",
       "      <td>114.340082</td>\n",
       "      <td>117.499399</td>\n",
       "      <td>107.260862</td>\n",
       "      <td>112.662910</td>\n",
       "      <td>864867300</td>\n",
       "      <td>AAPL</td>\n",
       "      <td>Technology</td>\n",
       "      <td>0.024109</td>\n",
       "      <td>-0.000195</td>\n",
       "      <td>9.457901</td>\n",
       "      <td>64.193426</td>\n",
       "      <td>108.076653</td>\n",
       "      <td>2.059602</td>\n",
       "      <td>127.421279</td>\n",
       "      <td>62.431496</td>\n",
       "    </tr>\n",
       "    <tr>\n",
       "      <th>37</th>\n",
       "      <td>2020-09-16</td>\n",
       "      <td>112.360646</td>\n",
       "      <td>113.111469</td>\n",
       "      <td>100.532692</td>\n",
       "      <td>109.025803</td>\n",
       "      <td>998564100</td>\n",
       "      <td>AAPL</td>\n",
       "      <td>Technology</td>\n",
       "      <td>-0.032283</td>\n",
       "      <td>-0.104266</td>\n",
       "      <td>10.251878</td>\n",
       "      <td>60.816805</td>\n",
       "      <td>109.532201</td>\n",
       "      <td>1.151433</td>\n",
       "      <td>128.054979</td>\n",
       "      <td>65.479216</td>\n",
       "    </tr>\n",
       "  </tbody>\n",
       "</table>\n",
       "</div>"
      ],
      "text/plain": [
       "         Date        Open        High         Low       Close      Volume  \\\n",
       "33 2020-08-19  113.094381  125.578087  112.731159  121.716690  1167933200   \n",
       "34 2020-08-26  123.037991  131.443347  120.748943  130.838776   883855600   \n",
       "35 2020-09-02  134.163836  134.544124  108.128702  110.010643  1021692400   \n",
       "36 2020-09-09  114.340082  117.499399  107.260862  112.662910   864867300   \n",
       "37 2020-09-16  112.360646  113.111469  100.532692  109.025803   998564100   \n",
       "\n",
       "   Symbol      Sector  Return_1w  Return_4w  Volatility_4w        RSI  \\\n",
       "33   AAPL  Technology   0.080151   0.340983       7.145863  85.450113   \n",
       "34   AAPL  Technology   0.074945   0.225751      10.646745  87.807067   \n",
       "35   AAPL  Technology  -0.159189   0.033357       9.453153  62.794676   \n",
       "36   AAPL  Technology   0.024109  -0.000195       9.457901  64.193426   \n",
       "37   AAPL  Technology  -0.032283  -0.104266      10.251878  60.816805   \n",
       "\n",
       "        SMA_10      MACD    BB_Upper   BB_Lower  \n",
       "33   99.590198  3.191935  117.631568  57.109403  \n",
       "34  103.755081  3.959343  124.976142  55.882607  \n",
       "35  105.879250  2.828669  126.169569  59.177466  \n",
       "36  108.076653  2.059602  127.421279  62.431496  \n",
       "37  109.532201  1.151433  128.054979  65.479216  "
      ]
     },
     "execution_count": 84,
     "metadata": {},
     "output_type": "execute_result"
    }
   ],
   "source": [
    "def add_technical_indicators(df):\n",
    "    result = []\n",
    "\n",
    "    for symbol in df[\"Symbol\"].unique():\n",
    "        sub = df[df[\"Symbol\"] == symbol].sort_values(\"Date\").copy()\n",
    "\n",
    "        # Momentum: past 1-week and 4-week returns\n",
    "        sub[\"Return_1w\"] = sub[\"Close\"].pct_change(1)\n",
    "        sub[\"Return_4w\"] = sub[\"Close\"].pct_change(4)\n",
    "\n",
    "        # Volatility: Rolling std dev\n",
    "        sub[\"Volatility_4w\"] = sub[\"Close\"].rolling(window=4).std()\n",
    "\n",
    "        # RSI\n",
    "        sub[\"RSI\"] = RSIIndicator(close=sub[\"Close\"], window=14).rsi()\n",
    "\n",
    "        # SMA\n",
    "        sub[\"SMA_10\"] = SMAIndicator(close=sub[\"Close\"], window=10).sma_indicator()\n",
    "\n",
    "        # MACD\n",
    "        macd = MACD(close=sub[\"Close\"])\n",
    "        sub[\"MACD\"] = macd.macd_diff()\n",
    "\n",
    "        # Bollinger Bands\n",
    "        bb = BollingerBands(close=sub[\"Close\"], window=20)\n",
    "        sub[\"BB_Upper\"] = bb.bollinger_hband()\n",
    "        sub[\"BB_Lower\"] = bb.bollinger_lband()\n",
    "\n",
    "        result.append(sub)\n",
    "\n",
    "    features_df = pd.concat(result).reset_index(drop=True)\n",
    "    return features_df\n",
    "\n",
    "features_df = add_technical_indicators(stock_df)\n",
    "features_df = features_df.dropna()\n",
    "features_df.head()\n"
   ]
  },
  {
   "cell_type": "markdown",
   "id": "98cf0d67",
   "metadata": {},
   "source": [
    "### Create Outperformance Label"
   ]
  },
  {
   "cell_type": "code",
   "execution_count": 85,
   "id": "0a6becbc",
   "metadata": {},
   "outputs": [
    {
     "data": {
      "application/vnd.microsoft.datawrangler.viewer.v0+json": {
       "columns": [
        {
         "name": "index",
         "rawType": "int64",
         "type": "integer"
        },
        {
         "name": "Date",
         "rawType": "datetime64[ns]",
         "type": "datetime"
        },
        {
         "name": "Symbol",
         "rawType": "object",
         "type": "string"
        },
        {
         "name": "Sector",
         "rawType": "object",
         "type": "string"
        },
        {
         "name": "Stock_Return_Next",
         "rawType": "float64",
         "type": "float"
        },
        {
         "name": "Benchmark_Return_Next",
         "rawType": "float64",
         "type": "float"
        },
        {
         "name": "Label",
         "rawType": "int64",
         "type": "integer"
        }
       ],
       "conversionMethod": "pd.DataFrame",
       "ref": "2fc14fd4-1912-4a3e-af8e-33c3ccadb185",
       "rows": [
        [
         "17461",
         "2025-04-02 00:00:00",
         "^GSPC",
         "Benchmark",
         "0.08305819085749899",
         "0.08305819085749899",
         "0"
        ],
        [
         "17462",
         "2025-04-09 00:00:00",
         "^GSPC",
         "Benchmark",
         "-0.02017372314789201",
         "-0.02017372314789201",
         "0"
        ],
        [
         "17463",
         "2025-04-16 00:00:00",
         "^GSPC",
         "Benchmark",
         "0.05164196646662966",
         "0.05164196646662966",
         "0"
        ],
        [
         "17464",
         "2025-04-23 00:00:00",
         "^GSPC",
         "Benchmark",
         "0.00147999135976562",
         "0.00147999135976562",
         "0"
        ],
        [
         "17465",
         "2025-04-30 00:00:00",
         "^GSPC",
         "Benchmark",
         null,
         null,
         "0"
        ]
       ],
       "shape": {
        "columns": 6,
        "rows": 5
       }
      },
      "text/html": [
       "<div>\n",
       "<style scoped>\n",
       "    .dataframe tbody tr th:only-of-type {\n",
       "        vertical-align: middle;\n",
       "    }\n",
       "\n",
       "    .dataframe tbody tr th {\n",
       "        vertical-align: top;\n",
       "    }\n",
       "\n",
       "    .dataframe thead th {\n",
       "        text-align: right;\n",
       "    }\n",
       "</style>\n",
       "<table border=\"1\" class=\"dataframe\">\n",
       "  <thead>\n",
       "    <tr style=\"text-align: right;\">\n",
       "      <th></th>\n",
       "      <th>Date</th>\n",
       "      <th>Symbol</th>\n",
       "      <th>Sector</th>\n",
       "      <th>Stock_Return_Next</th>\n",
       "      <th>Benchmark_Return_Next</th>\n",
       "      <th>Label</th>\n",
       "    </tr>\n",
       "  </thead>\n",
       "  <tbody>\n",
       "    <tr>\n",
       "      <th>17461</th>\n",
       "      <td>2025-04-02</td>\n",
       "      <td>^GSPC</td>\n",
       "      <td>Benchmark</td>\n",
       "      <td>0.083058</td>\n",
       "      <td>0.083058</td>\n",
       "      <td>0</td>\n",
       "    </tr>\n",
       "    <tr>\n",
       "      <th>17462</th>\n",
       "      <td>2025-04-09</td>\n",
       "      <td>^GSPC</td>\n",
       "      <td>Benchmark</td>\n",
       "      <td>-0.020174</td>\n",
       "      <td>-0.020174</td>\n",
       "      <td>0</td>\n",
       "    </tr>\n",
       "    <tr>\n",
       "      <th>17463</th>\n",
       "      <td>2025-04-16</td>\n",
       "      <td>^GSPC</td>\n",
       "      <td>Benchmark</td>\n",
       "      <td>0.051642</td>\n",
       "      <td>0.051642</td>\n",
       "      <td>0</td>\n",
       "    </tr>\n",
       "    <tr>\n",
       "      <th>17464</th>\n",
       "      <td>2025-04-23</td>\n",
       "      <td>^GSPC</td>\n",
       "      <td>Benchmark</td>\n",
       "      <td>0.001480</td>\n",
       "      <td>0.001480</td>\n",
       "      <td>0</td>\n",
       "    </tr>\n",
       "    <tr>\n",
       "      <th>17465</th>\n",
       "      <td>2025-04-30</td>\n",
       "      <td>^GSPC</td>\n",
       "      <td>Benchmark</td>\n",
       "      <td>NaN</td>\n",
       "      <td>NaN</td>\n",
       "      <td>0</td>\n",
       "    </tr>\n",
       "  </tbody>\n",
       "</table>\n",
       "</div>"
      ],
      "text/plain": [
       "            Date Symbol     Sector  Stock_Return_Next  Benchmark_Return_Next  \\\n",
       "17461 2025-04-02  ^GSPC  Benchmark           0.083058               0.083058   \n",
       "17462 2025-04-09  ^GSPC  Benchmark          -0.020174              -0.020174   \n",
       "17463 2025-04-16  ^GSPC  Benchmark           0.051642               0.051642   \n",
       "17464 2025-04-23  ^GSPC  Benchmark           0.001480               0.001480   \n",
       "17465 2025-04-30  ^GSPC  Benchmark                NaN                    NaN   \n",
       "\n",
       "       Label  \n",
       "17461      0  \n",
       "17462      0  \n",
       "17463      0  \n",
       "17464      0  \n",
       "17465      0  "
      ]
     },
     "execution_count": 85,
     "metadata": {},
     "output_type": "execute_result"
    }
   ],
   "source": [
    "def create_outperformance_labels(features_df, benchmark_df):\n",
    "    # Calculate future return for S&P 500\n",
    "    benchmark_df[\"Benchmark_Return_Next\"] = benchmark_df[\"Close\"].pct_change().shift(-1)\n",
    "\n",
    "    # Ensure 'Date' columns are of the same type\n",
    "    features_df[\"Date\"] = pd.to_datetime(features_df[\"Date\"])\n",
    "    benchmark_df[\"Date\"] = pd.to_datetime(benchmark_df[\"Date\"])\n",
    "\n",
    "    # Merge benchmark return into stock data\n",
    "    df = features_df.merge(benchmark_df[[\"Date\", \"Benchmark_Return_Next\"]], on=\"Date\", how=\"left\")\n",
    "\n",
    "    # Calculate stock return next week\n",
    "    price_col = \"Adj Close\" if \"Adj Close\" in df.columns else \"Close\"\n",
    "    df[\"Stock_Return_Next\"] = df.groupby(\"Symbol\")[price_col].pct_change().shift(-1)\n",
    "\n",
    "    # Label = 1 if stock outperforms benchmark, else 0\n",
    "    df[\"Label\"] = (df[\"Stock_Return_Next\"] > df[\"Benchmark_Return_Next\"]).astype(int)\n",
    "\n",
    "    return df\n",
    "\n",
    "# Load benchmark data from CSV\n",
    "benchmark_df = pd.read_csv(\"stock_sector_data.csv\", usecols=[\"Date\", \"Symbol\", \"Close\"])\n",
    "benchmark_df = benchmark_df[benchmark_df[\"Symbol\"] == benchmark_symbol].reset_index(drop=True)\n",
    "\n",
    "labeled_df = create_outperformance_labels(features_df, benchmark_df)\n",
    "labeled_df[[\"Date\", \"Symbol\", \"Sector\", \"Stock_Return_Next\", \"Benchmark_Return_Next\", \"Label\"]].tail()\n"
   ]
  },
  {
   "cell_type": "markdown",
   "id": "e6d8aa58",
   "metadata": {},
   "source": [
    "### Train/Test Split & Preprocessing"
   ]
  },
  {
   "cell_type": "code",
   "execution_count": 86,
   "id": "2a1231c2",
   "metadata": {},
   "outputs": [],
   "source": [
    "from sklearn.model_selection import train_test_split\n",
    "from sklearn.preprocessing import StandardScaler\n",
    "\n",
    "def preprocess_data(df):\n",
    "    # Drop rows where the label is missing (NaN due to shifting)\n",
    "    df = df.dropna(subset=[\"Label\"])\n",
    "    \n",
    "    # Fill remaining missing values with median (safe for numeric features)\n",
    "    df = df.fillna(df.median(numeric_only=True))\n",
    "\n",
    "    # Keep only numeric feature columns\n",
    "    exclude_cols = ['Date', 'Symbol', 'Sector', 'Label', 'Stock_Return_Next', 'Benchmark_Return_Next']\n",
    "    feature_columns = [col for col in df.columns if col not in exclude_cols and df[col].dtype != 'object']\n",
    "    \n",
    "    X = df[feature_columns]\n",
    "    y = df[\"Label\"].astype(int)  # Ensure label is int\n",
    "\n",
    "    # Optional: Scaling (not strictly necessary for Random Forest)\n",
    "    scaler = StandardScaler()\n",
    "    X_scaled = scaler.fit_transform(X)\n",
    "\n",
    "    return X_scaled, y\n",
    "\n",
    "# Split the data: train up to 2023, test after\n",
    "train_data = labeled_df[labeled_df[\"Date\"] < \"2023-01-01\"]\n",
    "test_data = labeled_df[labeled_df[\"Date\"] >= \"2023-01-01\"]\n",
    "\n",
    "X_train, y_train = preprocess_data(train_data)\n",
    "X_test, y_test = preprocess_data(test_data)"
   ]
  },
  {
   "cell_type": "markdown",
   "id": "f4165227",
   "metadata": {},
   "source": [
    "### Train Random Forest Classifier"
   ]
  },
  {
   "cell_type": "code",
   "execution_count": 87,
   "id": "8e16843f",
   "metadata": {},
   "outputs": [
    {
     "name": "stdout",
     "output_type": "stream",
     "text": [
      "Classification Report:\n",
      "              precision    recall  f1-score   support\n",
      "\n",
      "           0       0.53      0.52      0.52      4540\n",
      "           1       0.48      0.49      0.48      4122\n",
      "\n",
      "    accuracy                           0.50      8662\n",
      "   macro avg       0.50      0.50      0.50      8662\n",
      "weighted avg       0.51      0.50      0.50      8662\n",
      "\n",
      "ROC-AUC Score:\n",
      "0.5058359356798269\n"
     ]
    }
   ],
   "source": [
    "from sklearn.ensemble import RandomForestClassifier\n",
    "from sklearn.metrics import classification_report, roc_auc_score\n",
    "\n",
    "# Train Random Forest\n",
    "rf_model = RandomForestClassifier(n_estimators=100, random_state=42)\n",
    "rf_model.fit(X_train, y_train)\n",
    "\n",
    "# Make predictions\n",
    "y_pred = rf_model.predict(X_test)\n",
    "\n",
    "# Evaluation: Metrics\n",
    "print(\"Classification Report:\")\n",
    "print(classification_report(y_test, y_pred))\n",
    "\n",
    "print(\"ROC-AUC Score:\")\n",
    "print(roc_auc_score(y_test, rf_model.predict_proba(X_test)[:, 1]))\n"
   ]
  },
  {
   "cell_type": "markdown",
   "id": "bcd1c230",
   "metadata": {},
   "source": [
    "### Feature Importance Plot"
   ]
  },
  {
   "cell_type": "code",
   "execution_count": 88,
   "id": "351833b6",
   "metadata": {},
   "outputs": [
    {
     "data": {
      "image/png": "[encoded data removed]",
      "text/plain": [
       "<Figure size 1000x600 with 1 Axes>"
      ]
     },
     "metadata": {},
     "output_type": "display_data"
    }
   ],
   "source": [
    "import matplotlib.pyplot as plt\n",
    "import seaborn as sns\n",
    "\n",
    "exclude_cols = ['Date', 'Symbol', 'Sector', 'Label', 'Stock_Return_Next', 'Benchmark_Return_Next']\n",
    "\n",
    "# Get feature importances and names\n",
    "feature_columns = [col for col in train_data.columns if col not in exclude_cols and train_data[col].dtype != 'object']\n",
    "importances = rf_model.feature_importances_\n",
    "\n",
    "# Create DataFrame for plotting\n",
    "feat_imp_df = pd.DataFrame({\n",
    "    'Feature': feature_columns,\n",
    "    'Importance': importances\n",
    "}).sort_values(by='Importance', ascending=False)\n",
    "\n",
    "# Plot\n",
    "plt.figure(figsize=(10, 6))\n",
    "sns.barplot(data=feat_imp_df, x='Importance', y='Feature')\n",
    "plt.title('Top Feature Importances')\n",
    "plt.tight_layout()\n",
    "plt.show()"
   ]
  },
  {
   "cell_type": "markdown",
   "id": "ff9b7a11",
   "metadata": {},
   "source": [
    "### Correlation Analysis"
   ]
  },
  {
   "cell_type": "code",
   "execution_count": 89,
   "id": "5b6a2b45",
   "metadata": {},
   "outputs": [
    {
     "data": {
      "image/png": "[encoded data removed]",
      "text/plain": [
       "<Figure size 1200x1000 with 2 Axes>"
      ]
     },
     "metadata": {},
     "output_type": "display_data"
    }
   ],
   "source": [
    "# Compute correlation matrix on the training features\n",
    "exclude_cols = ['Date', 'Symbol', 'Sector', 'Label', 'Stock_Return_Next', 'Benchmark_Return_Next']\n",
    "\n",
    "numeric_cols = [col for col in train_data.columns if col not in exclude_cols and train_data[col].dtype != 'object']\n",
    "corr_matrix = train_data[numeric_cols].corr()\n",
    "\n",
    "# Plot heatmap\n",
    "plt.figure(figsize=(12, 10))\n",
    "sns.heatmap(corr_matrix, annot=False, cmap='coolwarm', center=0)\n",
    "plt.title('Feature Correlation Matrix')\n",
    "plt.tight_layout()\n",
    "plt.show()"
   ]
  },
  {
   "cell_type": "markdown",
   "id": "25bb11e4",
   "metadata": {},
   "source": [
    "### Reduce Multicollinearity"
   ]
  },
  {
   "cell_type": "code",
   "execution_count": 90,
   "id": "79c70d4b",
   "metadata": {},
   "outputs": [],
   "source": [
    "selected_features = [\n",
    "    'Volume',\n",
    "    'Return_1w',\n",
    "    'Return_4w',\n",
    "    'Volatility_4w',\n",
    "    'RSI',\n",
    "    'MACD'\n",
    "    # Drop SMA_10, BB_Upper, BB_Lower, OHLCs\n",
    "]"
   ]
  },
  {
   "cell_type": "markdown",
   "id": "8165cf9d",
   "metadata": {},
   "source": [
    "### Train/Test Split & Preprocessing after Reduce Multicollinearity"
   ]
  },
  {
   "cell_type": "code",
   "execution_count": 91,
   "id": "7511d344",
   "metadata": {},
   "outputs": [],
   "source": [
    "def preprocess_data(df):\n",
    "    # Drop rows where the label is missing (NaN due to shifting)\n",
    "    df = df.dropna(subset=[\"Label\"])\n",
    "    \n",
    "    # Fill remaining missing values with median (safe for numeric features)\n",
    "    df = df.fillna(df.median(numeric_only=True))\n",
    "\n",
    "    # Use only selected features\n",
    "    X = df[selected_features]\n",
    "    y = df[\"Label\"].astype(int)  # Ensure label is int\n",
    "\n",
    "    scaler = StandardScaler()\n",
    "    X_scaled = scaler.fit_transform(X)\n",
    "\n",
    "    return X_scaled, y\n",
    "\n",
    "# Split the data: train up to 2023, test after\n",
    "X_train, y_train = preprocess_data(train_data)\n",
    "X_test, y_test = preprocess_data(test_data)\n"
   ]
  },
  {
   "cell_type": "code",
   "execution_count": 92,
   "id": "8254cc33",
   "metadata": {},
   "outputs": [
    {
     "name": "stdout",
     "output_type": "stream",
     "text": [
      "Classification Report:\n",
      "              precision    recall  f1-score   support\n",
      "\n",
      "           0       0.52      0.53      0.52      4540\n",
      "           1       0.47      0.46      0.46      4122\n",
      "\n",
      "    accuracy                           0.49      8662\n",
      "   macro avg       0.49      0.49      0.49      8662\n",
      "weighted avg       0.49      0.49      0.49      8662\n",
      "\n",
      "ROC-AUC Score:\n",
      "0.5000858186543892\n"
     ]
    }
   ],
   "source": [
    "from sklearn.ensemble import RandomForestClassifier\n",
    "from sklearn.metrics import classification_report, roc_auc_score\n",
    "\n",
    "# Train Random Forest\n",
    "rf_model = RandomForestClassifier(n_estimators=100, random_state=42)\n",
    "rf_model.fit(X_train, y_train)\n",
    "\n",
    "# Make predictions\n",
    "y_pred = rf_model.predict(X_test)\n",
    "\n",
    "# Evaluation: Metrics\n",
    "print(\"Classification Report:\")\n",
    "print(classification_report(y_test, y_pred))\n",
    "\n",
    "print(\"ROC-AUC Score:\")\n",
    "print(roc_auc_score(y_test, rf_model.predict_proba(X_test)[:, 1]))\n"
   ]
  },
  {
   "cell_type": "markdown",
   "id": "a3fbbf03",
   "metadata": {},
   "source": [
    "### Hyperparameter Tuning"
   ]
  },
  {
   "cell_type": "code",
   "execution_count": 93,
   "id": "8668eb26",
   "metadata": {},
   "outputs": [
    {
     "name": "stdout",
     "output_type": "stream",
     "text": [
      "Best parameters found:  {'max_depth': 10, 'max_features': 'log2', 'min_samples_leaf': 2, 'min_samples_split': 5, 'n_estimators': 100}\n"
     ]
    }
   ],
   "source": [
    "from sklearn.model_selection import GridSearchCV\n",
    "\n",
    "param_grid = {\n",
    "    'n_estimators': [100, 200],\n",
    "    'max_depth': [None, 10, 20],\n",
    "    'min_samples_split': [2, 5],\n",
    "    'min_samples_leaf': [1, 2],\n",
    "    'max_features': ['sqrt', 'log2']\n",
    "}\n",
    "\n",
    "grid = GridSearchCV(RandomForestClassifier(), param_grid, cv=3, scoring='f1', n_jobs=-1)\n",
    "grid.fit(X_train, y_train)\n",
    "print(\"Best parameters found: \", grid.best_params_)"
   ]
  },
  {
   "cell_type": "code",
   "execution_count": 95,
   "id": "aeb93b41",
   "metadata": {},
   "outputs": [
    {
     "name": "stdout",
     "output_type": "stream",
     "text": [
      "Best parameters found:  {'max_depth': 10, 'max_features': None, 'min_samples_leaf': 1, 'min_samples_split': 6, 'n_estimators': 162}\n"
     ]
    }
   ],
   "source": [
    "from sklearn.model_selection import RandomizedSearchCV\n",
    "from scipy.stats import randint\n",
    "\n",
    "# Define the parameter distribution\n",
    "param_dist = {\n",
    "    'n_estimators': randint(50, 200),\n",
    "    'max_depth': [None, 10, 20, 30],\n",
    "    'min_samples_split': randint(2, 10),\n",
    "    'min_samples_leaf': randint(1, 5),\n",
    "    'max_features': ['sqrt', 'log2', None]\n",
    "}\n",
    "\n",
    "# Perform Randomized Search\n",
    "random_search = RandomizedSearchCV(\n",
    "    RandomForestClassifier(random_state=42),\n",
    "    param_distributions=param_dist,\n",
    "    n_iter=100,  # Number of parameter settings sampled\n",
    "    scoring='f1',\n",
    "    cv=3,\n",
    "    random_state=42,\n",
    "    n_jobs=-1\n",
    ")\n",
    "\n",
    "random_search.fit(X_train, y_train)\n",
    "\n",
    "# Output the best parameters\n",
    "print(\"Best parameters found: \", random_search.best_params_)"
   ]
  },
  {
   "cell_type": "code",
   "execution_count": 94,
   "id": "1d0ade7a",
   "metadata": {},
   "outputs": [
    {
     "name": "stdout",
     "output_type": "stream",
     "text": [
      "Classification Report:\n",
      "              precision    recall  f1-score   support\n",
      "\n",
      "           0       0.52      0.51      0.51      4540\n",
      "           1       0.47      0.49      0.48      4122\n",
      "\n",
      "    accuracy                           0.50      8662\n",
      "   macro avg       0.50      0.50      0.50      8662\n",
      "weighted avg       0.50      0.50      0.50      8662\n",
      "\n",
      "ROC-AUC Score:\n",
      "0.500268624144218\n"
     ]
    }
   ],
   "source": [
    "# Apply the specified hyperparameters\n",
    "rf_model = RandomForestClassifier(\n",
    "    max_depth=10,\n",
    "    max_features='log2',\n",
    "    min_samples_leaf=2,\n",
    "    min_samples_split=5,\n",
    "    n_estimators=100,\n",
    "    random_state=42\n",
    ")\n",
    "\n",
    "# Train the model\n",
    "rf_model.fit(X_train, y_train)\n",
    "\n",
    "# Make predictions\n",
    "y_pred = rf_model.predict(X_test)\n",
    "\n",
    "# Evaluation: Metrics\n",
    "print(\"Classification Report:\")\n",
    "print(classification_report(y_test, y_pred))\n",
    "\n",
    "print(\"ROC-AUC Score:\")\n",
    "print(roc_auc_score(y_test, rf_model.predict_proba(X_test)[:, 1]))"
   ]
  }
 ],
 "metadata": {
  "kernelspec": {
   "display_name": ".venv",
   "language": "python",
   "name": "python3"
  },
  "language_info": {
   "codemirror_mode": {
    "name": "ipython",
    "version": 3
   },
   "file_extension": ".py",
   "mimetype": "text/x-python",
   "name": "python",
   "nbconvert_exporter": "python",
   "pygments_lexer": "ipython3",
   "version": "3.12.3"
  }
 },
 "nbformat": 4,
 "nbformat_minor": 5
}
