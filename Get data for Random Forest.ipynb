{
 "cells": [
  {
   "cell_type": "code",
   "execution_count": 1,
   "id": "822b00d0",
   "metadata": {},
   "outputs": [],
   "source": [
    "import yfinance as yf\n",
    "import pandas as pd"
   ]
  },
  {
   "cell_type": "markdown",
   "id": "78f791bd",
   "metadata": {},
   "source": [
    "### Define Parameters"
   ]
  },
  {
   "cell_type": "code",
   "execution_count": 1,
   "id": "66a13558",
   "metadata": {},
   "outputs": [],
   "source": [
    "# Project time frame\n",
    "start_date = \"2020-01-01\"\n",
    "end_date = \"2025-05-01\"\n",
    "\n",
    "# Benchmark index\n",
    "benchmark_symbol = \"^GSPC\"\n",
    "\n",
    "# Top 10 symbols from each sector (replace with your actual tickers if needed)\n",
    "sectors = {\n",
    "    \"Technology\": [\"AAPL\", \"MSFT\", \"NVDA\", \"AVGO\", \"ADBE\", \"CRM\", \"AMD\", \"CSCO\", \"INTC\", \"ORCL\"],\n",
    "    # \"Communication\": [\"GOOGL\", \"META\", \"NFLX\", \"TMUS\", \"DIS\", \"VZ\", \"T\", \"CHTR\", \"CMCSA\", \"WBD\"],\n",
    "    # \"Health\": [\"JNJ\", \"PFE\", \"ABBV\", \"LLY\", \"MRK\", \"TMO\", \"BMY\", \"UNH\", \"ABT\", \"CVS\"],\n",
    "    # \"Financials\": [\"JPM\", \"BAC\", \"WFC\", \"C\", \"GS\", \"MS\", \"AXP\", \"USB\", \"BK\", \"SCHW\"],\n",
    "    # \"Defensive\": [\"PG\", \"KO\", \"PEP\", \"WMT\", \"COST\", \"CL\", \"MO\", \"KMB\", \"MDLZ\", \"KR\"],\n",
    "    # \"Cyclical\": [\"AMZN\", \"HD\", \"LOW\", \"MCD\", \"NKE\", \"SBUX\", \"BKNG\", \"TGT\", \"EBAY\", \"GM\"],\n",
    "    # \"Property\": [\"PLD\", \"AMT\", \"CCI\", \"EQIX\", \"DLR\", \"SPG\", \"O\", \"PSA\", \"VTR\", \"EXR\"],\n",
    "    \"Benchmark\": [benchmark_symbol]\n",
    "}\n",
    "\n",
    "# Flatten list of all tickers\n",
    "all_symbols = [symbol for group in sectors.values() for symbol in group]"
   ]
  },
  {
   "cell_type": "markdown",
   "id": "80fd0a8a",
   "metadata": {},
   "source": [
    "### Download Historical Stock Data with Sector Labels"
   ]
  },
  {
   "cell_type": "code",
   "execution_count": 3,
   "id": "b26fa451",
   "metadata": {},
   "outputs": [
    {
     "name": "stdout",
     "output_type": "stream",
     "text": [
      "Downloading sector: Technology\n",
      "YF.download() has changed argument auto_adjust default to True\n"
     ]
    },
    {
     "name": "stderr",
     "output_type": "stream",
     "text": [
      "/tmp/ipykernel_28636/3209999011.py:9: PerformanceWarning: indexing past lexsort depth may impact performance.\n",
      "  if (symbol,) in df.columns:\n",
      "/tmp/ipykernel_28636/3209999011.py:9: PerformanceWarning: indexing past lexsort depth may impact performance.\n",
      "  if (symbol,) in df.columns:\n",
      "/tmp/ipykernel_28636/3209999011.py:9: PerformanceWarning: indexing past lexsort depth may impact performance.\n",
      "  if (symbol,) in df.columns:\n",
      "/tmp/ipykernel_28636/3209999011.py:9: PerformanceWarning: indexing past lexsort depth may impact performance.\n",
      "  if (symbol,) in df.columns:\n",
      "/tmp/ipykernel_28636/3209999011.py:9: PerformanceWarning: indexing past lexsort depth may impact performance.\n",
      "  if (symbol,) in df.columns:\n",
      "/tmp/ipykernel_28636/3209999011.py:9: PerformanceWarning: indexing past lexsort depth may impact performance.\n",
      "  if (symbol,) in df.columns:\n",
      "/tmp/ipykernel_28636/3209999011.py:9: PerformanceWarning: indexing past lexsort depth may impact performance.\n",
      "  if (symbol,) in df.columns:\n",
      "/tmp/ipykernel_28636/3209999011.py:9: PerformanceWarning: indexing past lexsort depth may impact performance.\n",
      "  if (symbol,) in df.columns:\n",
      "/tmp/ipykernel_28636/3209999011.py:9: PerformanceWarning: indexing past lexsort depth may impact performance.\n",
      "  if (symbol,) in df.columns:\n",
      "/tmp/ipykernel_28636/3209999011.py:9: PerformanceWarning: indexing past lexsort depth may impact performance.\n",
      "  if (symbol,) in df.columns:\n"
     ]
    },
    {
     "name": "stdout",
     "output_type": "stream",
     "text": [
      "Downloading sector: Communication\n"
     ]
    },
    {
     "name": "stderr",
     "output_type": "stream",
     "text": [
      "/tmp/ipykernel_28636/3209999011.py:9: PerformanceWarning: indexing past lexsort depth may impact performance.\n",
      "  if (symbol,) in df.columns:\n",
      "/tmp/ipykernel_28636/3209999011.py:9: PerformanceWarning: indexing past lexsort depth may impact performance.\n",
      "  if (symbol,) in df.columns:\n",
      "/tmp/ipykernel_28636/3209999011.py:9: PerformanceWarning: indexing past lexsort depth may impact performance.\n",
      "  if (symbol,) in df.columns:\n",
      "/tmp/ipykernel_28636/3209999011.py:9: PerformanceWarning: indexing past lexsort depth may impact performance.\n",
      "  if (symbol,) in df.columns:\n",
      "/tmp/ipykernel_28636/3209999011.py:9: PerformanceWarning: indexing past lexsort depth may impact performance.\n",
      "  if (symbol,) in df.columns:\n",
      "/tmp/ipykernel_28636/3209999011.py:9: PerformanceWarning: indexing past lexsort depth may impact performance.\n",
      "  if (symbol,) in df.columns:\n",
      "/tmp/ipykernel_28636/3209999011.py:9: PerformanceWarning: indexing past lexsort depth may impact performance.\n",
      "  if (symbol,) in df.columns:\n",
      "/tmp/ipykernel_28636/3209999011.py:9: PerformanceWarning: indexing past lexsort depth may impact performance.\n",
      "  if (symbol,) in df.columns:\n",
      "/tmp/ipykernel_28636/3209999011.py:9: PerformanceWarning: indexing past lexsort depth may impact performance.\n",
      "  if (symbol,) in df.columns:\n",
      "/tmp/ipykernel_28636/3209999011.py:9: PerformanceWarning: indexing past lexsort depth may impact performance.\n",
      "  if (symbol,) in df.columns:\n"
     ]
    },
    {
     "name": "stdout",
     "output_type": "stream",
     "text": [
      "Downloading sector: Health\n"
     ]
    },
    {
     "name": "stderr",
     "output_type": "stream",
     "text": [
      "/tmp/ipykernel_28636/3209999011.py:9: PerformanceWarning: indexing past lexsort depth may impact performance.\n",
      "  if (symbol,) in df.columns:\n",
      "/tmp/ipykernel_28636/3209999011.py:9: PerformanceWarning: indexing past lexsort depth may impact performance.\n",
      "  if (symbol,) in df.columns:\n",
      "/tmp/ipykernel_28636/3209999011.py:9: PerformanceWarning: indexing past lexsort depth may impact performance.\n",
      "  if (symbol,) in df.columns:\n",
      "/tmp/ipykernel_28636/3209999011.py:9: PerformanceWarning: indexing past lexsort depth may impact performance.\n",
      "  if (symbol,) in df.columns:\n",
      "/tmp/ipykernel_28636/3209999011.py:9: PerformanceWarning: indexing past lexsort depth may impact performance.\n",
      "  if (symbol,) in df.columns:\n",
      "/tmp/ipykernel_28636/3209999011.py:9: PerformanceWarning: indexing past lexsort depth may impact performance.\n",
      "  if (symbol,) in df.columns:\n",
      "/tmp/ipykernel_28636/3209999011.py:9: PerformanceWarning: indexing past lexsort depth may impact performance.\n",
      "  if (symbol,) in df.columns:\n",
      "/tmp/ipykernel_28636/3209999011.py:9: PerformanceWarning: indexing past lexsort depth may impact performance.\n",
      "  if (symbol,) in df.columns:\n",
      "/tmp/ipykernel_28636/3209999011.py:9: PerformanceWarning: indexing past lexsort depth may impact performance.\n",
      "  if (symbol,) in df.columns:\n",
      "/tmp/ipykernel_28636/3209999011.py:9: PerformanceWarning: indexing past lexsort depth may impact performance.\n",
      "  if (symbol,) in df.columns:\n"
     ]
    },
    {
     "name": "stdout",
     "output_type": "stream",
     "text": [
      "Downloading sector: Financials\n"
     ]
    },
    {
     "name": "stderr",
     "output_type": "stream",
     "text": [
      "/tmp/ipykernel_28636/3209999011.py:9: PerformanceWarning: indexing past lexsort depth may impact performance.\n",
      "  if (symbol,) in df.columns:\n",
      "/tmp/ipykernel_28636/3209999011.py:9: PerformanceWarning: indexing past lexsort depth may impact performance.\n",
      "  if (symbol,) in df.columns:\n",
      "/tmp/ipykernel_28636/3209999011.py:9: PerformanceWarning: indexing past lexsort depth may impact performance.\n",
      "  if (symbol,) in df.columns:\n",
      "/tmp/ipykernel_28636/3209999011.py:9: PerformanceWarning: indexing past lexsort depth may impact performance.\n",
      "  if (symbol,) in df.columns:\n",
      "/tmp/ipykernel_28636/3209999011.py:9: PerformanceWarning: indexing past lexsort depth may impact performance.\n",
      "  if (symbol,) in df.columns:\n",
      "/tmp/ipykernel_28636/3209999011.py:9: PerformanceWarning: indexing past lexsort depth may impact performance.\n",
      "  if (symbol,) in df.columns:\n",
      "/tmp/ipykernel_28636/3209999011.py:9: PerformanceWarning: indexing past lexsort depth may impact performance.\n",
      "  if (symbol,) in df.columns:\n",
      "/tmp/ipykernel_28636/3209999011.py:9: PerformanceWarning: indexing past lexsort depth may impact performance.\n",
      "  if (symbol,) in df.columns:\n",
      "/tmp/ipykernel_28636/3209999011.py:9: PerformanceWarning: indexing past lexsort depth may impact performance.\n",
      "  if (symbol,) in df.columns:\n",
      "/tmp/ipykernel_28636/3209999011.py:9: PerformanceWarning: indexing past lexsort depth may impact performance.\n",
      "  if (symbol,) in df.columns:\n"
     ]
    },
    {
     "name": "stdout",
     "output_type": "stream",
     "text": [
      "Downloading sector: Defensive\n"
     ]
    },
    {
     "name": "stderr",
     "output_type": "stream",
     "text": [
      "/tmp/ipykernel_28636/3209999011.py:9: PerformanceWarning: indexing past lexsort depth may impact performance.\n",
      "  if (symbol,) in df.columns:\n",
      "/tmp/ipykernel_28636/3209999011.py:9: PerformanceWarning: indexing past lexsort depth may impact performance.\n",
      "  if (symbol,) in df.columns:\n",
      "/tmp/ipykernel_28636/3209999011.py:9: PerformanceWarning: indexing past lexsort depth may impact performance.\n",
      "  if (symbol,) in df.columns:\n",
      "/tmp/ipykernel_28636/3209999011.py:9: PerformanceWarning: indexing past lexsort depth may impact performance.\n",
      "  if (symbol,) in df.columns:\n",
      "/tmp/ipykernel_28636/3209999011.py:9: PerformanceWarning: indexing past lexsort depth may impact performance.\n",
      "  if (symbol,) in df.columns:\n",
      "/tmp/ipykernel_28636/3209999011.py:9: PerformanceWarning: indexing past lexsort depth may impact performance.\n",
      "  if (symbol,) in df.columns:\n",
      "/tmp/ipykernel_28636/3209999011.py:9: PerformanceWarning: indexing past lexsort depth may impact performance.\n",
      "  if (symbol,) in df.columns:\n",
      "/tmp/ipykernel_28636/3209999011.py:9: PerformanceWarning: indexing past lexsort depth may impact performance.\n",
      "  if (symbol,) in df.columns:\n",
      "/tmp/ipykernel_28636/3209999011.py:9: PerformanceWarning: indexing past lexsort depth may impact performance.\n",
      "  if (symbol,) in df.columns:\n",
      "/tmp/ipykernel_28636/3209999011.py:9: PerformanceWarning: indexing past lexsort depth may impact performance.\n",
      "  if (symbol,) in df.columns:\n",
      "/tmp/ipykernel_28636/3209999011.py:9: PerformanceWarning: indexing past lexsort depth may impact performance.\n",
      "  if (symbol,) in df.columns:\n",
      "/tmp/ipykernel_28636/3209999011.py:9: PerformanceWarning: indexing past lexsort depth may impact performance.\n",
      "  if (symbol,) in df.columns:\n",
      "/tmp/ipykernel_28636/3209999011.py:9: PerformanceWarning: indexing past lexsort depth may impact performance.\n",
      "  if (symbol,) in df.columns:\n",
      "/tmp/ipykernel_28636/3209999011.py:9: PerformanceWarning: indexing past lexsort depth may impact performance.\n",
      "  if (symbol,) in df.columns:\n",
      "/tmp/ipykernel_28636/3209999011.py:9: PerformanceWarning: indexing past lexsort depth may impact performance.\n",
      "  if (symbol,) in df.columns:\n",
      "/tmp/ipykernel_28636/3209999011.py:9: PerformanceWarning: indexing past lexsort depth may impact performance.\n",
      "  if (symbol,) in df.columns:\n",
      "/tmp/ipykernel_28636/3209999011.py:9: PerformanceWarning: indexing past lexsort depth may impact performance.\n",
      "  if (symbol,) in df.columns:\n",
      "/tmp/ipykernel_28636/3209999011.py:9: PerformanceWarning: indexing past lexsort depth may impact performance.\n",
      "  if (symbol,) in df.columns:\n",
      "/tmp/ipykernel_28636/3209999011.py:9: PerformanceWarning: indexing past lexsort depth may impact performance.\n",
      "  if (symbol,) in df.columns:\n",
      "/tmp/ipykernel_28636/3209999011.py:9: PerformanceWarning: indexing past lexsort depth may impact performance.\n",
      "  if (symbol,) in df.columns:\n"
     ]
    },
    {
     "name": "stdout",
     "output_type": "stream",
     "text": [
      "Downloading sector: Cyclical\n",
      "Downloading sector: Property\n",
      "Downloading sector: Benchmark\n"
     ]
    },
    {
     "name": "stderr",
     "output_type": "stream",
     "text": [
      "/tmp/ipykernel_28636/3209999011.py:9: PerformanceWarning: indexing past lexsort depth may impact performance.\n",
      "  if (symbol,) in df.columns:\n",
      "/tmp/ipykernel_28636/3209999011.py:9: PerformanceWarning: indexing past lexsort depth may impact performance.\n",
      "  if (symbol,) in df.columns:\n",
      "/tmp/ipykernel_28636/3209999011.py:9: PerformanceWarning: indexing past lexsort depth may impact performance.\n",
      "  if (symbol,) in df.columns:\n",
      "/tmp/ipykernel_28636/3209999011.py:9: PerformanceWarning: indexing past lexsort depth may impact performance.\n",
      "  if (symbol,) in df.columns:\n",
      "/tmp/ipykernel_28636/3209999011.py:9: PerformanceWarning: indexing past lexsort depth may impact performance.\n",
      "  if (symbol,) in df.columns:\n",
      "/tmp/ipykernel_28636/3209999011.py:9: PerformanceWarning: indexing past lexsort depth may impact performance.\n",
      "  if (symbol,) in df.columns:\n",
      "/tmp/ipykernel_28636/3209999011.py:9: PerformanceWarning: indexing past lexsort depth may impact performance.\n",
      "  if (symbol,) in df.columns:\n",
      "/tmp/ipykernel_28636/3209999011.py:9: PerformanceWarning: indexing past lexsort depth may impact performance.\n",
      "  if (symbol,) in df.columns:\n",
      "/tmp/ipykernel_28636/3209999011.py:9: PerformanceWarning: indexing past lexsort depth may impact performance.\n",
      "  if (symbol,) in df.columns:\n",
      "/tmp/ipykernel_28636/3209999011.py:9: PerformanceWarning: indexing past lexsort depth may impact performance.\n",
      "  if (symbol,) in df.columns:\n"
     ]
    },
    {
     "data": {
      "application/vnd.microsoft.datawrangler.viewer.v0+json": {
       "columns": [
        {
         "name": "index",
         "rawType": "int64",
         "type": "integer"
        },
        {
         "name": "Date",
         "rawType": "datetime64[ns]",
         "type": "datetime"
        },
        {
         "name": "Open",
         "rawType": "float64",
         "type": "float"
        },
        {
         "name": "High",
         "rawType": "float64",
         "type": "float"
        },
        {
         "name": "Low",
         "rawType": "float64",
         "type": "float"
        },
        {
         "name": "Close",
         "rawType": "float64",
         "type": "float"
        },
        {
         "name": "Volume",
         "rawType": "int64",
         "type": "integer"
        },
        {
         "name": "Symbol",
         "rawType": "object",
         "type": "string"
        },
        {
         "name": "Sector",
         "rawType": "object",
         "type": "string"
        }
       ],
       "conversionMethod": "pd.DataFrame",
       "ref": "61de1de2-52ea-47a5-a687-a39327bed23b",
       "rows": [
        [
         "0",
         "2020-01-01 00:00:00",
         "71.72100103079126",
         "72.84920835752393",
         "70.87605908693341",
         "72.24153137207031",
         "509062400",
         "AAPL",
         "Technology"
        ],
        [
         "1",
         "2020-01-08 00:00:00",
         "71.94376649798261",
         "76.88511970700802",
         "71.94376649798261",
         "75.70122528076172",
         "726318800",
         "AAPL",
         "Technology"
        ],
        [
         "2",
         "2020-01-15 00:00:00",
         "75.50026458780106",
         "77.23614913553814",
         "74.94341999070512",
         "76.64299774169922",
         "479412400",
         "AAPL",
         "Technology"
        ],
        [
         "3",
         "2020-01-22 00:00:00",
         "77.12963079607457",
         "78.2796269092116",
         "73.81280433440728",
         "76.9141616821289",
         "677016000",
         "AAPL",
         "Technology"
        ],
        [
         "4",
         "2020-01-29 00:00:00",
         "78.55079375640157",
         "79.37394742965633",
         "73.16880903613175",
         "77.19500732421875",
         "852965600",
         "AAPL",
         "Technology"
        ]
       ],
       "shape": {
        "columns": 8,
        "rows": 5
       }
      },
      "text/html": [
       "<div>\n",
       "<style scoped>\n",
       "    .dataframe tbody tr th:only-of-type {\n",
       "        vertical-align: middle;\n",
       "    }\n",
       "\n",
       "    .dataframe tbody tr th {\n",
       "        vertical-align: top;\n",
       "    }\n",
       "\n",
       "    .dataframe thead th {\n",
       "        text-align: right;\n",
       "    }\n",
       "</style>\n",
       "<table border=\"1\" class=\"dataframe\">\n",
       "  <thead>\n",
       "    <tr style=\"text-align: right;\">\n",
       "      <th>Price</th>\n",
       "      <th>Date</th>\n",
       "      <th>Open</th>\n",
       "      <th>High</th>\n",
       "      <th>Low</th>\n",
       "      <th>Close</th>\n",
       "      <th>Volume</th>\n",
       "      <th>Symbol</th>\n",
       "      <th>Sector</th>\n",
       "    </tr>\n",
       "  </thead>\n",
       "  <tbody>\n",
       "    <tr>\n",
       "      <th>0</th>\n",
       "      <td>2020-01-01</td>\n",
       "      <td>71.721001</td>\n",
       "      <td>72.849208</td>\n",
       "      <td>70.876059</td>\n",
       "      <td>72.241531</td>\n",
       "      <td>509062400</td>\n",
       "      <td>AAPL</td>\n",
       "      <td>Technology</td>\n",
       "    </tr>\n",
       "    <tr>\n",
       "      <th>1</th>\n",
       "      <td>2020-01-08</td>\n",
       "      <td>71.943766</td>\n",
       "      <td>76.885120</td>\n",
       "      <td>71.943766</td>\n",
       "      <td>75.701225</td>\n",
       "      <td>726318800</td>\n",
       "      <td>AAPL</td>\n",
       "      <td>Technology</td>\n",
       "    </tr>\n",
       "    <tr>\n",
       "      <th>2</th>\n",
       "      <td>2020-01-15</td>\n",
       "      <td>75.500265</td>\n",
       "      <td>77.236149</td>\n",
       "      <td>74.943420</td>\n",
       "      <td>76.642998</td>\n",
       "      <td>479412400</td>\n",
       "      <td>AAPL</td>\n",
       "      <td>Technology</td>\n",
       "    </tr>\n",
       "    <tr>\n",
       "      <th>3</th>\n",
       "      <td>2020-01-22</td>\n",
       "      <td>77.129631</td>\n",
       "      <td>78.279627</td>\n",
       "      <td>73.812804</td>\n",
       "      <td>76.914162</td>\n",
       "      <td>677016000</td>\n",
       "      <td>AAPL</td>\n",
       "      <td>Technology</td>\n",
       "    </tr>\n",
       "    <tr>\n",
       "      <th>4</th>\n",
       "      <td>2020-01-29</td>\n",
       "      <td>78.550794</td>\n",
       "      <td>79.373947</td>\n",
       "      <td>73.168809</td>\n",
       "      <td>77.195007</td>\n",
       "      <td>852965600</td>\n",
       "      <td>AAPL</td>\n",
       "      <td>Technology</td>\n",
       "    </tr>\n",
       "  </tbody>\n",
       "</table>\n",
       "</div>"
      ],
      "text/plain": [
       "Price       Date       Open       High        Low      Close     Volume  \\\n",
       "0     2020-01-01  71.721001  72.849208  70.876059  72.241531  509062400   \n",
       "1     2020-01-08  71.943766  76.885120  71.943766  75.701225  726318800   \n",
       "2     2020-01-15  75.500265  77.236149  74.943420  76.642998  479412400   \n",
       "3     2020-01-22  77.129631  78.279627  73.812804  76.914162  677016000   \n",
       "4     2020-01-29  78.550794  79.373947  73.168809  77.195007  852965600   \n",
       "\n",
       "Price Symbol      Sector  \n",
       "0       AAPL  Technology  \n",
       "1       AAPL  Technology  \n",
       "2       AAPL  Technology  \n",
       "3       AAPL  Technology  \n",
       "4       AAPL  Technology  "
      ]
     },
     "execution_count": 3,
     "metadata": {},
     "output_type": "execute_result"
    }
   ],
   "source": [
    "def download_by_sector_batch(sectors_dict, start, end, interval=\"1wk\"):\n",
    "    all_data = []\n",
    "\n",
    "    for sector, symbols in sectors_dict.items():\n",
    "        print(f\"Downloading sector: {sector}\")\n",
    "        try:\n",
    "            df = yf.download(symbols, start=start, end=end, interval=interval, group_by='ticker', progress=False)\n",
    "            for symbol in symbols:\n",
    "                if (symbol,) in df.columns:\n",
    "                    # MultiIndex fallback (rare)\n",
    "                    sub_df = df[symbol]\n",
    "                else:\n",
    "                    # Normal format\n",
    "                    sub_df = df[symbol].copy()\n",
    "                sub_df = sub_df.reset_index()\n",
    "                sub_df[\"Symbol\"] = symbol\n",
    "                sub_df[\"Sector\"] = sector\n",
    "                all_data.append(sub_df)\n",
    "        except Exception as e:\n",
    "            print(f\"Failed to download sector {sector}: {e}\")\n",
    "    \n",
    "    combined = pd.concat(all_data)\n",
    "    return combined.reset_index(drop=True)\n",
    "\n",
    "stock_df = download_by_sector_batch(sectors, start_date, end_date)\n",
    "stock_df.head()\n"
   ]
  },
  {
   "cell_type": "markdown",
   "id": "475b1fb4",
   "metadata": {},
   "source": [
    "### Save to CSV"
   ]
  },
  {
   "cell_type": "code",
   "execution_count": 4,
   "id": "457109d3",
   "metadata": {},
   "outputs": [
    {
     "name": "stdout",
     "output_type": "stream",
     "text": [
      "Saved dataset to stock_sector_data.csv\n"
     ]
    }
   ],
   "source": [
    "# Save the downloaded dataset\n",
    "csv_path = \"stock_sector_data.csv\"\n",
    "stock_df.to_csv(csv_path, index=False)\n",
    "print(f\"Saved dataset to {csv_path}\")\n"
   ]
  }
 ],
 "metadata": {
  "kernelspec": {
   "display_name": ".venv",
   "language": "python",
   "name": "python3"
  },
  "language_info": {
   "codemirror_mode": {
    "name": "ipython",
    "version": 3
   },
   "file_extension": ".py",
   "mimetype": "text/x-python",
   "name": "python",
   "nbconvert_exporter": "python",
   "pygments_lexer": "ipython3",
   "version": "3.12.3"
  }
 },
 "nbformat": 4,
 "nbformat_minor": 5
}
