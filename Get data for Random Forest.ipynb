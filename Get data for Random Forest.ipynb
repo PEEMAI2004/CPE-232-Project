{
 "cells": [
  {
   "cell_type": "code",
   "execution_count": 5,
   "id": "822b00d0",
   "metadata": {},
   "outputs": [],
   "source": [
    "import yfinance as yf\n",
    "import pandas as pd\n",
    "import time"
   ]
  },
  {
   "cell_type": "markdown",
   "id": "78f791bd",
   "metadata": {},
   "source": [
    "### Define Parameters"
   ]
  },
  {
   "cell_type": "code",
   "execution_count": 1,
   "id": "66a13558",
   "metadata": {},
   "outputs": [],
   "source": [
    "# Project time frame\n",
    "start_date = \"2015-01-01\"\n",
    "end_date = \"2025-05-01\"\n",
    "\n",
    "# Benchmark index\n",
    "benchmark_symbol = \"^GSPC\"\n",
    "\n",
    "# Top 10 symbols from each sector (replace with your actual tickers if needed)\n",
    "sectors = {\n",
    "    \"Choosen\": ['AAPL', 'MSFT', 'AMZN', 'NFLX', 'MRNA', 'JNJ', 'ILMN', 'NEE', 'TSLA', 'FSLR'],\n",
    "    \"Benchmark\": [benchmark_symbol]\n",
    "}\n",
    "\n",
    "# Flatten list of all tickers\n",
    "all_symbols = [symbol for group in sectors.values() for symbol in group]"
   ]
  },
  {
   "cell_type": "markdown",
   "id": "80fd0a8a",
   "metadata": {},
   "source": [
    "### Download Historical Stock Data with Sector Labels"
   ]
  },
  {
   "cell_type": "code",
   "execution_count": 7,
   "id": "b26fa451",
   "metadata": {},
   "outputs": [
    {
     "name": "stdout",
     "output_type": "stream",
     "text": [
      "Downloading sector: Choosen\n"
     ]
    },
    {
     "name": "stderr",
     "output_type": "stream",
     "text": [
      "/tmp/ipykernel_65122/4008558569.py:9: PerformanceWarning: indexing past lexsort depth may impact performance.\n",
      "  if (symbol,) in df.columns:\n",
      "/tmp/ipykernel_65122/4008558569.py:9: PerformanceWarning: indexing past lexsort depth may impact performance.\n",
      "  if (symbol,) in df.columns:\n",
      "/tmp/ipykernel_65122/4008558569.py:9: PerformanceWarning: indexing past lexsort depth may impact performance.\n",
      "  if (symbol,) in df.columns:\n",
      "/tmp/ipykernel_65122/4008558569.py:9: PerformanceWarning: indexing past lexsort depth may impact performance.\n",
      "  if (symbol,) in df.columns:\n",
      "/tmp/ipykernel_65122/4008558569.py:9: PerformanceWarning: indexing past lexsort depth may impact performance.\n",
      "  if (symbol,) in df.columns:\n",
      "/tmp/ipykernel_65122/4008558569.py:9: PerformanceWarning: indexing past lexsort depth may impact performance.\n",
      "  if (symbol,) in df.columns:\n",
      "/tmp/ipykernel_65122/4008558569.py:9: PerformanceWarning: indexing past lexsort depth may impact performance.\n",
      "  if (symbol,) in df.columns:\n",
      "/tmp/ipykernel_65122/4008558569.py:9: PerformanceWarning: indexing past lexsort depth may impact performance.\n",
      "  if (symbol,) in df.columns:\n",
      "/tmp/ipykernel_65122/4008558569.py:9: PerformanceWarning: indexing past lexsort depth may impact performance.\n",
      "  if (symbol,) in df.columns:\n",
      "/tmp/ipykernel_65122/4008558569.py:9: PerformanceWarning: indexing past lexsort depth may impact performance.\n",
      "  if (symbol,) in df.columns:\n"
     ]
    },
    {
     "name": "stdout",
     "output_type": "stream",
     "text": [
      "Downloading sector: Benchmark\n"
     ]
    },
    {
     "data": {
      "application/vnd.microsoft.datawrangler.viewer.v0+json": {
       "columns": [
        {
         "name": "index",
         "rawType": "int64",
         "type": "integer"
        },
        {
         "name": "Date",
         "rawType": "datetime64[ns]",
         "type": "datetime"
        },
        {
         "name": "Open",
         "rawType": "float64",
         "type": "float"
        },
        {
         "name": "High",
         "rawType": "float64",
         "type": "float"
        },
        {
         "name": "Low",
         "rawType": "float64",
         "type": "float"
        },
        {
         "name": "Close",
         "rawType": "float64",
         "type": "float"
        },
        {
         "name": "Volume",
         "rawType": "float64",
         "type": "float"
        },
        {
         "name": "Symbol",
         "rawType": "object",
         "type": "string"
        },
        {
         "name": "Sector",
         "rawType": "object",
         "type": "string"
        }
       ],
       "conversionMethod": "pd.DataFrame",
       "ref": "c6f43d19-012a-4e4c-876f-fd1154b9c2f6",
       "rows": [
        [
         "0",
         "2015-01-02 00:00:00",
         "24.746231563593415",
         "24.757340164944214",
         "23.848711151343018",
         "24.288585662841797",
         "212818400.0",
         "AAPL",
         "Choosen"
        ],
        [
         "1",
         "2015-01-05 00:00:00",
         "24.057537291404817",
         "24.137514464137663",
         "23.41772160447641",
         "23.604333877563477",
         "257142000.0",
         "AAPL",
         "Choosen"
        ],
        [
         "2",
         "2015-01-06 00:00:00",
         "23.66876002975555",
         "23.866480902659614",
         "23.244436602442416",
         "23.606555938720703",
         "263188400.0",
         "AAPL",
         "Choosen"
        ],
        [
         "3",
         "2015-01-07 00:00:00",
         "23.815380861143215",
         "24.03753927102304",
         "23.704301656203306",
         "23.93756866455078",
         "160423600.0",
         "AAPL",
         "Choosen"
        ],
        [
         "4",
         "2015-01-08 00:00:00",
         "24.2663687337548",
         "24.915071014189344",
         "24.148623329110514",
         "24.857309341430664",
         "237458000.0",
         "AAPL",
         "Choosen"
        ]
       ],
       "shape": {
        "columns": 8,
        "rows": 5
       }
      },
      "text/html": [
       "<div>\n",
       "<style scoped>\n",
       "    .dataframe tbody tr th:only-of-type {\n",
       "        vertical-align: middle;\n",
       "    }\n",
       "\n",
       "    .dataframe tbody tr th {\n",
       "        vertical-align: top;\n",
       "    }\n",
       "\n",
       "    .dataframe thead th {\n",
       "        text-align: right;\n",
       "    }\n",
       "</style>\n",
       "<table border=\"1\" class=\"dataframe\">\n",
       "  <thead>\n",
       "    <tr style=\"text-align: right;\">\n",
       "      <th>Price</th>\n",
       "      <th>Date</th>\n",
       "      <th>Open</th>\n",
       "      <th>High</th>\n",
       "      <th>Low</th>\n",
       "      <th>Close</th>\n",
       "      <th>Volume</th>\n",
       "      <th>Symbol</th>\n",
       "      <th>Sector</th>\n",
       "    </tr>\n",
       "  </thead>\n",
       "  <tbody>\n",
       "    <tr>\n",
       "      <th>0</th>\n",
       "      <td>2015-01-02</td>\n",
       "      <td>24.746232</td>\n",
       "      <td>24.757340</td>\n",
       "      <td>23.848711</td>\n",
       "      <td>24.288586</td>\n",
       "      <td>212818400.0</td>\n",
       "      <td>AAPL</td>\n",
       "      <td>Choosen</td>\n",
       "    </tr>\n",
       "    <tr>\n",
       "      <th>1</th>\n",
       "      <td>2015-01-05</td>\n",
       "      <td>24.057537</td>\n",
       "      <td>24.137514</td>\n",
       "      <td>23.417722</td>\n",
       "      <td>23.604334</td>\n",
       "      <td>257142000.0</td>\n",
       "      <td>AAPL</td>\n",
       "      <td>Choosen</td>\n",
       "    </tr>\n",
       "    <tr>\n",
       "      <th>2</th>\n",
       "      <td>2015-01-06</td>\n",
       "      <td>23.668760</td>\n",
       "      <td>23.866481</td>\n",
       "      <td>23.244437</td>\n",
       "      <td>23.606556</td>\n",
       "      <td>263188400.0</td>\n",
       "      <td>AAPL</td>\n",
       "      <td>Choosen</td>\n",
       "    </tr>\n",
       "    <tr>\n",
       "      <th>3</th>\n",
       "      <td>2015-01-07</td>\n",
       "      <td>23.815381</td>\n",
       "      <td>24.037539</td>\n",
       "      <td>23.704302</td>\n",
       "      <td>23.937569</td>\n",
       "      <td>160423600.0</td>\n",
       "      <td>AAPL</td>\n",
       "      <td>Choosen</td>\n",
       "    </tr>\n",
       "    <tr>\n",
       "      <th>4</th>\n",
       "      <td>2015-01-08</td>\n",
       "      <td>24.266369</td>\n",
       "      <td>24.915071</td>\n",
       "      <td>24.148623</td>\n",
       "      <td>24.857309</td>\n",
       "      <td>237458000.0</td>\n",
       "      <td>AAPL</td>\n",
       "      <td>Choosen</td>\n",
       "    </tr>\n",
       "  </tbody>\n",
       "</table>\n",
       "</div>"
      ],
      "text/plain": [
       "Price       Date       Open       High        Low      Close       Volume  \\\n",
       "0     2015-01-02  24.746232  24.757340  23.848711  24.288586  212818400.0   \n",
       "1     2015-01-05  24.057537  24.137514  23.417722  23.604334  257142000.0   \n",
       "2     2015-01-06  23.668760  23.866481  23.244437  23.606556  263188400.0   \n",
       "3     2015-01-07  23.815381  24.037539  23.704302  23.937569  160423600.0   \n",
       "4     2015-01-08  24.266369  24.915071  24.148623  24.857309  237458000.0   \n",
       "\n",
       "Price Symbol   Sector  \n",
       "0       AAPL  Choosen  \n",
       "1       AAPL  Choosen  \n",
       "2       AAPL  Choosen  \n",
       "3       AAPL  Choosen  \n",
       "4       AAPL  Choosen  "
      ]
     },
     "execution_count": 7,
     "metadata": {},
     "output_type": "execute_result"
    }
   ],
   "source": [
    "def download_by_sector_batch(sectors_dict, start, end, interval=\" 1d\"):\n",
    "    all_data = []\n",
    "\n",
    "    for sector, symbols in sectors_dict.items():\n",
    "        print(f\"Downloading sector: {sector}\")\n",
    "        try:\n",
    "            df = yf.download(symbols, start=start, end=end, interval=interval, group_by='ticker', progress=False)\n",
    "            for symbol in symbols:\n",
    "                if (symbol,) in df.columns:\n",
    "                    # MultiIndex fallback (rare)\n",
    "                    sub_df = df[symbol]\n",
    "                else:\n",
    "                    # Normal format\n",
    "                    sub_df = df[symbol].copy()\n",
    "                sub_df = sub_df.reset_index()\n",
    "                sub_df[\"Symbol\"] = symbol\n",
    "                sub_df[\"Sector\"] = sector\n",
    "                all_data.append(sub_df)\n",
    "        except Exception as e:\n",
    "            print(f\"Failed to download sector {sector}: {e}\")\n",
    "        time.sleep(5)\n",
    "        \n",
    "        \n",
    "    combined = pd.concat(all_data)\n",
    "    return combined.reset_index(drop=True)\n",
    "\n",
    "stock_df = download_by_sector_batch(sectors, start_date, end_date)\n",
    "stock_df.head()\n"
   ]
  },
  {
   "cell_type": "markdown",
   "id": "475b1fb4",
   "metadata": {},
   "source": [
    "### Save to CSV"
   ]
  },
  {
   "cell_type": "code",
   "execution_count": 8,
   "id": "457109d3",
   "metadata": {},
   "outputs": [
    {
     "name": "stdout",
     "output_type": "stream",
     "text": [
      "Saved dataset to stock_sector_data.csv\n"
     ]
    }
   ],
   "source": [
    "# Save the downloaded dataset\n",
    "csv_path = \"stock_sector_data.csv\"\n",
    "stock_df.to_csv(csv_path, index=False)\n",
    "print(f\"Saved dataset to {csv_path}\")\n"
   ]
  }
 ],
 "metadata": {
  "kernelspec": {
   "display_name": ".venv",
   "language": "python",
   "name": "python3"
  },
  "language_info": {
   "codemirror_mode": {
    "name": "ipython",
    "version": 3
   },
   "file_extension": ".py",
   "mimetype": "text/x-python",
   "name": "python",
   "nbconvert_exporter": "python",
   "pygments_lexer": "ipython3",
   "version": "3.12.3"
  }
 },
 "nbformat": 4,
 "nbformat_minor": 5
}
