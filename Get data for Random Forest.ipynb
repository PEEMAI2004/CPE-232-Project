{
 "cells": [
  {
   "cell_type": "code",
   "execution_count": 1,
   "id": "822b00d0",
   "metadata": {},
   "outputs": [],
   "source": [
    "import yfinance as yf\n",
    "import pandas as pd\n",
    "import time"
   ]
  },
  {
   "cell_type": "markdown",
   "id": "78f791bd",
   "metadata": {},
   "source": [
    "### Define Parameters"
   ]
  },
  {
   "cell_type": "code",
   "execution_count": 2,
   "id": "66a13558",
   "metadata": {},
   "outputs": [],
   "source": [
    "# Project time frame\n",
    "start_date = \"2020-01-01\"\n",
    "end_date = \"2025-05-01\"\n",
    "\n",
    "# Benchmark index\n",
    "benchmark_symbol = \"^GSPC\"\n",
    "\n",
    "# Top 10 symbols from each sector (replace with your actual tickers if needed)\n",
    "sectors = {\n",
    "    \"Technology\": ['AAPL', 'GOOGL', 'MSFT', 'AMZN', 'META', 'TSLA', 'NFLX', 'NVDA', 'INTC', 'AMD'],\n",
    "    # \"Communication\": [\"GOOGL\", \"META\", \"NFLX\", \"TMUS\", \"DIS\", \"VZ\", \"T\", \"CHTR\", \"CMCSA\", \"WBD\"],\n",
    "    # \"Health\": [\"JNJ\", \"PFE\", \"ABBV\", \"LLY\", \"MRK\", \"TMO\", \"BMY\", \"UNH\", \"ABT\", \"CVS\"],\n",
    "    # \"Financials\": [\"JPM\", \"BAC\", \"WFC\", \"C\", \"GS\", \"MS\", \"AXP\", \"USB\", \"BK\", \"SCHW\"],\n",
    "    # \"Defensive\": [\"PG\", \"KO\", \"PEP\", \"WMT\", \"COST\", \"CL\", \"MO\", \"KMB\", \"MDLZ\", \"KR\"],\n",
    "    # \"Cyclical\": [\"AMZN\", \"HD\", \"LOW\", \"MCD\", \"NKE\", \"SBUX\", \"BKNG\", \"TGT\", \"EBAY\", \"GM\"],\n",
    "    # \"Property\": [\"PLD\", \"AMT\", \"CCI\", \"EQIX\", \"DLR\", \"SPG\", \"O\", \"PSA\", \"VTR\", \"EXR\"],\n",
    "    \"Benchmark\": [benchmark_symbol]\n",
    "}\n",
    "\n",
    "# Flatten list of all tickers\n",
    "all_symbols = [symbol for group in sectors.values() for symbol in group]"
   ]
  },
  {
   "cell_type": "markdown",
   "id": "80fd0a8a",
   "metadata": {},
   "source": [
    "### Download Historical Stock Data with Sector Labels"
   ]
  },
  {
   "cell_type": "code",
   "execution_count": 3,
   "id": "b26fa451",
   "metadata": {},
   "outputs": [
    {
     "name": "stdout",
     "output_type": "stream",
     "text": [
      "Downloading sector: Technology\n",
      "YF.download() has changed argument auto_adjust default to True\n"
     ]
    },
    {
     "name": "stderr",
     "output_type": "stream",
     "text": [
      "\n",
      "10 Failed downloads:\n",
      "['AAPL', 'INTC', 'META', 'GOOGL', 'NFLX', 'AMD', 'MSFT', 'AMZN', 'NVDA', 'TSLA']: YFRateLimitError('Too Many Requests. Rate limited. Try after a while.')\n",
      "/tmp/ipykernel_111411/3900817989.py:9: PerformanceWarning: indexing past lexsort depth may impact performance.\n",
      "  if (symbol,) in df.columns:\n",
      "/tmp/ipykernel_111411/3900817989.py:9: PerformanceWarning: indexing past lexsort depth may impact performance.\n",
      "  if (symbol,) in df.columns:\n",
      "/tmp/ipykernel_111411/3900817989.py:9: PerformanceWarning: indexing past lexsort depth may impact performance.\n",
      "  if (symbol,) in df.columns:\n",
      "/tmp/ipykernel_111411/3900817989.py:9: PerformanceWarning: indexing past lexsort depth may impact performance.\n",
      "  if (symbol,) in df.columns:\n",
      "/tmp/ipykernel_111411/3900817989.py:9: PerformanceWarning: indexing past lexsort depth may impact performance.\n",
      "  if (symbol,) in df.columns:\n",
      "/tmp/ipykernel_111411/3900817989.py:9: PerformanceWarning: indexing past lexsort depth may impact performance.\n",
      "  if (symbol,) in df.columns:\n",
      "/tmp/ipykernel_111411/3900817989.py:9: PerformanceWarning: indexing past lexsort depth may impact performance.\n",
      "  if (symbol,) in df.columns:\n",
      "/tmp/ipykernel_111411/3900817989.py:9: PerformanceWarning: indexing past lexsort depth may impact performance.\n",
      "  if (symbol,) in df.columns:\n",
      "/tmp/ipykernel_111411/3900817989.py:9: PerformanceWarning: indexing past lexsort depth may impact performance.\n",
      "  if (symbol,) in df.columns:\n",
      "/tmp/ipykernel_111411/3900817989.py:9: PerformanceWarning: indexing past lexsort depth may impact performance.\n",
      "  if (symbol,) in df.columns:\n"
     ]
    },
    {
     "name": "stdout",
     "output_type": "stream",
     "text": [
      "Downloading sector: Benchmark\n"
     ]
    },
    {
     "name": "stderr",
     "output_type": "stream",
     "text": [
      "\n",
      "1 Failed download:\n",
      "['^GSPC']: YFRateLimitError('Too Many Requests. Rate limited. Try after a while.')\n"
     ]
    },
    {
     "data": {
      "application/vnd.microsoft.datawrangler.viewer.v0+json": {
       "columns": [
        {
         "name": "index",
         "rawType": "int64",
         "type": "integer"
        },
        {
         "name": "Date",
         "rawType": "datetime64[ns]",
         "type": "datetime"
        },
        {
         "name": "Open",
         "rawType": "float64",
         "type": "float"
        },
        {
         "name": "High",
         "rawType": "float64",
         "type": "float"
        },
        {
         "name": "Low",
         "rawType": "float64",
         "type": "float"
        },
        {
         "name": "Close",
         "rawType": "float64",
         "type": "float"
        },
        {
         "name": "Adj Close",
         "rawType": "float64",
         "type": "float"
        },
        {
         "name": "Volume",
         "rawType": "float64",
         "type": "float"
        },
        {
         "name": "Symbol",
         "rawType": "object",
         "type": "string"
        },
        {
         "name": "Sector",
         "rawType": "object",
         "type": "string"
        }
       ],
       "conversionMethod": "pd.DataFrame",
       "ref": "329453fa-1592-4efa-a109-7faa56ccd761",
       "rows": [],
       "shape": {
        "columns": 9,
        "rows": 0
       }
      },
      "text/html": [
       "<div>\n",
       "<style scoped>\n",
       "    .dataframe tbody tr th:only-of-type {\n",
       "        vertical-align: middle;\n",
       "    }\n",
       "\n",
       "    .dataframe tbody tr th {\n",
       "        vertical-align: top;\n",
       "    }\n",
       "\n",
       "    .dataframe thead th {\n",
       "        text-align: right;\n",
       "    }\n",
       "</style>\n",
       "<table border=\"1\" class=\"dataframe\">\n",
       "  <thead>\n",
       "    <tr style=\"text-align: right;\">\n",
       "      <th>Price</th>\n",
       "      <th>Date</th>\n",
       "      <th>Open</th>\n",
       "      <th>High</th>\n",
       "      <th>Low</th>\n",
       "      <th>Close</th>\n",
       "      <th>Adj Close</th>\n",
       "      <th>Volume</th>\n",
       "      <th>Symbol</th>\n",
       "      <th>Sector</th>\n",
       "    </tr>\n",
       "  </thead>\n",
       "  <tbody>\n",
       "  </tbody>\n",
       "</table>\n",
       "</div>"
      ],
      "text/plain": [
       "Empty DataFrame\n",
       "Columns: [Date, Open, High, Low, Close, Adj Close, Volume, Symbol, Sector]\n",
       "Index: []"
      ]
     },
     "execution_count": 3,
     "metadata": {},
     "output_type": "execute_result"
    }
   ],
   "source": [
    "def download_by_sector_batch(sectors_dict, start, end, interval=\"1wk\"):\n",
    "    all_data = []\n",
    "\n",
    "    for sector, symbols in sectors_dict.items():\n",
    "        print(f\"Downloading sector: {sector}\")\n",
    "        try:\n",
    "            df = yf.download(symbols, start=start, end=end, interval=interval, group_by='ticker', progress=False)\n",
    "            for symbol in symbols:\n",
    "                if (symbol,) in df.columns:\n",
    "                    # MultiIndex fallback (rare)\n",
    "                    sub_df = df[symbol]\n",
    "                else:\n",
    "                    # Normal format\n",
    "                    sub_df = df[symbol].copy()\n",
    "                sub_df = sub_df.reset_index()\n",
    "                sub_df[\"Symbol\"] = symbol\n",
    "                sub_df[\"Sector\"] = sector\n",
    "                all_data.append(sub_df)\n",
    "        except Exception as e:\n",
    "            print(f\"Failed to download sector {sector}: {e}\")\n",
    "        time.sleep(5)\n",
    "        \n",
    "        \n",
    "    combined = pd.concat(all_data)\n",
    "    return combined.reset_index(drop=True)\n",
    "\n",
    "stock_df = download_by_sector_batch(sectors, start_date, end_date)\n",
    "stock_df.head()\n"
   ]
  },
  {
   "cell_type": "markdown",
   "id": "475b1fb4",
   "metadata": {},
   "source": [
    "### Save to CSV"
   ]
  },
  {
   "cell_type": "code",
   "execution_count": 4,
   "id": "457109d3",
   "metadata": {},
   "outputs": [
    {
     "name": "stdout",
     "output_type": "stream",
     "text": [
      "Saved dataset to stock_sector_data.csv\n"
     ]
    }
   ],
   "source": [
    "# Save the downloaded dataset\n",
    "csv_path = \"stock_sector_data.csv\"\n",
    "stock_df.to_csv(csv_path, index=False)\n",
    "print(f\"Saved dataset to {csv_path}\")\n"
   ]
  }
 ],
 "metadata": {
  "kernelspec": {
   "display_name": ".venv",
   "language": "python",
   "name": "python3"
  },
  "language_info": {
   "codemirror_mode": {
    "name": "ipython",
    "version": 3
   },
   "file_extension": ".py",
   "mimetype": "text/x-python",
   "name": "python",
   "nbconvert_exporter": "python",
   "pygments_lexer": "ipython3",
   "version": "3.12.3"
  }
 },
 "nbformat": 4,
 "nbformat_minor": 5
}
