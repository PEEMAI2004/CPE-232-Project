{
 "cells": [
  {
   "cell_type": "code",
   "execution_count": 82,
   "id": "21329ba1",
   "metadata": {},
   "outputs": [],
   "source": [
    "import yfinance as yf\n",
    "import pandas as pd\n",
    "import numpy as np\n",
    "import matplotlib.pyplot as plt\n",
    "\n",
    "from sklearn.preprocessing import MinMaxScaler\n",
    "from sklearn.model_selection import train_test_split\n",
    "\n",
    "import tensorflow as tf\n",
    "from tensorflow.keras.models import Sequential\n",
    "from tensorflow.keras.layers import LSTM, Dense \n",
    "from sklearn.ensemble import RandomForestRegressor\n",
    "from sklearn.linear_model import LinearRegression\n",
    "from sklearn.metrics import mean_squared_error, mean_absolute_error, r2_score"
   ]
  },
  {
   "cell_type": "code",
   "execution_count": 83,
   "id": "da8adc9d",
   "metadata": {},
   "outputs": [],
   "source": [
    "tickers = ['AAPL', 'GOOGL', 'MSFT', 'AMZN', 'META', 'TSLA', 'NFLX', 'NVDA', 'INTC', 'AMD']"
   ]
  },
  {
   "cell_type": "markdown",
   "id": "0c5cb551",
   "metadata": {},
   "source": [
    "### Download 2 Years of Stock Data"
   ]
  },
  {
   "cell_type": "code",
   "execution_count": 84,
   "id": "9b25cde7",
   "metadata": {},
   "outputs": [
    {
     "name": "stderr",
     "output_type": "stream",
     "text": [
      "[*********************100%***********************]  1 of 1 completed\n"
     ]
    },
    {
     "name": "stdout",
     "output_type": "stream",
     "text": [
      "Downloaded AAPL data: 501 days\n"
     ]
    },
    {
     "name": "stderr",
     "output_type": "stream",
     "text": [
      "[*********************100%***********************]  1 of 1 completed\n",
      "[*********************100%***********************]  1 of 1 completed\n"
     ]
    },
    {
     "name": "stdout",
     "output_type": "stream",
     "text": [
      "Downloaded GOOGL data: 501 days\n",
      "Downloaded MSFT data: 501 days\n"
     ]
    },
    {
     "name": "stderr",
     "output_type": "stream",
     "text": [
      "[*********************100%***********************]  1 of 1 completed\n",
      "[*********************100%***********************]  1 of 1 completed\n"
     ]
    },
    {
     "name": "stdout",
     "output_type": "stream",
     "text": [
      "Downloaded AMZN data: 501 days\n",
      "Downloaded META data: 501 days\n"
     ]
    },
    {
     "name": "stderr",
     "output_type": "stream",
     "text": [
      "[*********************100%***********************]  1 of 1 completed\n",
      "[*********************100%***********************]  1 of 1 completed\n"
     ]
    },
    {
     "name": "stdout",
     "output_type": "stream",
     "text": [
      "Downloaded TSLA data: 501 days\n",
      "Downloaded NFLX data: 501 days\n"
     ]
    },
    {
     "name": "stderr",
     "output_type": "stream",
     "text": [
      "[*********************100%***********************]  1 of 1 completed\n"
     ]
    },
    {
     "name": "stdout",
     "output_type": "stream",
     "text": [
      "Downloaded NVDA data: 501 days\n"
     ]
    },
    {
     "name": "stderr",
     "output_type": "stream",
     "text": [
      "[*********************100%***********************]  1 of 1 completed\n",
      "[*********************100%***********************]  1 of 1 completed"
     ]
    },
    {
     "name": "stdout",
     "output_type": "stream",
     "text": [
      "Downloaded INTC data: 501 days\n",
      "Downloaded AMD data: 501 days\n"
     ]
    },
    {
     "name": "stderr",
     "output_type": "stream",
     "text": [
      "\n"
     ]
    }
   ],
   "source": [
    "# Download 2 years of stock data\n",
    "data = {}\n",
    "\n",
    "for ticker in tickers:\n",
    "    df = yf.download(ticker, period=\"2y\")\n",
    "    df.dropna(inplace=True)\n",
    "    data[ticker] = df[['Open', 'High', 'Low', 'Close', 'Volume']]\n",
    "    print(f\"Downloaded {ticker} data: {len(df)} days\")"
   ]
  },
  {
   "cell_type": "markdown",
   "id": "8d981a39",
   "metadata": {},
   "source": [
    "Save Data to .csv"
   ]
  },
  {
   "cell_type": "code",
   "execution_count": 85,
   "id": "7785b6aa",
   "metadata": {},
   "outputs": [],
   "source": [
    "# Save the data in df to CSV\n",
    "for ticker, df in data.items():\n",
    "    df.to_csv(f'Stocks/{ticker}_data.csv')"
   ]
  },
  {
   "cell_type": "markdown",
   "id": "6c9037e5",
   "metadata": {},
   "source": [
    "Load Data from .csv"
   ]
  },
  {
   "cell_type": "code",
   "execution_count": 86,
   "id": "58166ef5",
   "metadata": {},
   "outputs": [
    {
     "name": "stderr",
     "output_type": "stream",
     "text": [
      "/tmp/ipykernel_67575/4098107145.py:4: UserWarning: Could not infer format, so each element will be parsed individually, falling back to `dateutil`. To ensure parsing is consistent and as-expected, please specify a format.\n",
      "  df = pd.read_csv(f'Stocks/{ticker}_data.csv', index_col=0, parse_dates=True)\n",
      "/tmp/ipykernel_67575/4098107145.py:4: UserWarning: Could not infer format, so each element will be parsed individually, falling back to `dateutil`. To ensure parsing is consistent and as-expected, please specify a format.\n",
      "  df = pd.read_csv(f'Stocks/{ticker}_data.csv', index_col=0, parse_dates=True)\n",
      "/tmp/ipykernel_67575/4098107145.py:4: UserWarning: Could not infer format, so each element will be parsed individually, falling back to `dateutil`. To ensure parsing is consistent and as-expected, please specify a format.\n",
      "  df = pd.read_csv(f'Stocks/{ticker}_data.csv', index_col=0, parse_dates=True)\n",
      "/tmp/ipykernel_67575/4098107145.py:4: UserWarning: Could not infer format, so each element will be parsed individually, falling back to `dateutil`. To ensure parsing is consistent and as-expected, please specify a format.\n",
      "  df = pd.read_csv(f'Stocks/{ticker}_data.csv', index_col=0, parse_dates=True)\n",
      "/tmp/ipykernel_67575/4098107145.py:4: UserWarning: Could not infer format, so each element will be parsed individually, falling back to `dateutil`. To ensure parsing is consistent and as-expected, please specify a format.\n",
      "  df = pd.read_csv(f'Stocks/{ticker}_data.csv', index_col=0, parse_dates=True)\n",
      "/tmp/ipykernel_67575/4098107145.py:4: UserWarning: Could not infer format, so each element will be parsed individually, falling back to `dateutil`. To ensure parsing is consistent and as-expected, please specify a format.\n",
      "  df = pd.read_csv(f'Stocks/{ticker}_data.csv', index_col=0, parse_dates=True)\n",
      "/tmp/ipykernel_67575/4098107145.py:4: UserWarning: Could not infer format, so each element will be parsed individually, falling back to `dateutil`. To ensure parsing is consistent and as-expected, please specify a format.\n",
      "  df = pd.read_csv(f'Stocks/{ticker}_data.csv', index_col=0, parse_dates=True)\n",
      "/tmp/ipykernel_67575/4098107145.py:4: UserWarning: Could not infer format, so each element will be parsed individually, falling back to `dateutil`. To ensure parsing is consistent and as-expected, please specify a format.\n",
      "  df = pd.read_csv(f'Stocks/{ticker}_data.csv', index_col=0, parse_dates=True)\n",
      "/tmp/ipykernel_67575/4098107145.py:4: UserWarning: Could not infer format, so each element will be parsed individually, falling back to `dateutil`. To ensure parsing is consistent and as-expected, please specify a format.\n",
      "  df = pd.read_csv(f'Stocks/{ticker}_data.csv', index_col=0, parse_dates=True)\n",
      "/tmp/ipykernel_67575/4098107145.py:4: UserWarning: Could not infer format, so each element will be parsed individually, falling back to `dateutil`. To ensure parsing is consistent and as-expected, please specify a format.\n",
      "  df = pd.read_csv(f'Stocks/{ticker}_data.csv', index_col=0, parse_dates=True)\n"
     ]
    }
   ],
   "source": [
    "# Load the data from CSV\n",
    "data = {}\n",
    "for ticker in tickers:\n",
    "    df = pd.read_csv(f'Stocks/{ticker}_data.csv', index_col=0, parse_dates=True)\n",
    "    # Convert columns to numeric, coercing errors to NaN, and drop rows with NaN values\n",
    "    df[['Open', 'High', 'Low', 'Close']] = df[['Open', 'High', 'Low', 'Close']].apply(pd.to_numeric, errors='coerce')\n",
    "    df.dropna(subset=['Open', 'High', 'Low', 'Close', 'Volume'], inplace=True)\n",
    "    data[ticker] = df[['Open', 'High', 'Low', 'Close', 'Volume']].astype({'Open': 'float64', 'High': 'float64', 'Low': 'float64', 'Close': 'float64', 'Volume': 'int64'})"
   ]
  },
  {
   "cell_type": "markdown",
   "id": "84cf1e29",
   "metadata": {},
   "source": [
    "### Feature Engineering"
   ]
  },
  {
   "cell_type": "code",
   "execution_count": 87,
   "id": "b3fb6426",
   "metadata": {},
   "outputs": [],
   "source": [
    "def add_technical_indicators(df):\n",
    "    # Copy the dataframe to avoid modifying the original\n",
    "    df_new = df.copy()\n",
    "    \n",
    "    # Moving averages\n",
    "    df_new['MA5'] = df_new['Close'].rolling(window=5).mean()\n",
    "    df_new['MA20'] = df_new['Close'].rolling(window=20).mean()\n",
    "    df_new['MA50'] = df_new['Close'].rolling(window=50).mean()\n",
    "    \n",
    "    # Price momentum\n",
    "    df_new['Price_Change'] = df_new['Close'].pct_change()\n",
    "    df_new['Price_Change_5d'] = df_new['Close'].pct_change(periods=5)\n",
    "    \n",
    "    # Volatility\n",
    "    df_new['Volatility_5d'] = df_new['Close'].pct_change().rolling(window=5).std()\n",
    "    \n",
    "    # Volume indicators\n",
    "    df_new['Volume_Change'] = df_new['Volume'].pct_change()\n",
    "    df_new['Volume_MA5'] = df_new['Volume'].rolling(window=5).mean()\n",
    "    \n",
    "    # Relative strength index (simplified)\n",
    "    delta = df_new['Close'].diff()\n",
    "    gain = (delta.where(delta > 0, 0)).rolling(window=14).mean()\n",
    "    loss = (-delta.where(delta < 0, 0)).rolling(window=14).mean()\n",
    "    rs = gain / loss\n",
    "    df_new['RSI'] = 100 - (100 / (1 + rs))\n",
    "    \n",
    "    # MACD\n",
    "    exp1 = df_new['Close'].ewm(span=12, adjust=False).mean()\n",
    "    exp2 = df_new['Close'].ewm(span=26, adjust=False).mean()\n",
    "    df_new['MACD'] = exp1 - exp2\n",
    "    df_new['MACD_Signal'] = df_new['MACD'].ewm(span=9, adjust=False).mean()\n",
    "    \n",
    "    # Drop NaN values\n",
    "    df_new.dropna(inplace=True)\n",
    "    \n",
    "    return df_new\n",
    "\n",
    "# Apply technical indicators to all stocks\n",
    "for ticker in tickers:\n",
    "    data[ticker] = add_technical_indicators(data[ticker])"
   ]
  },
  {
   "cell_type": "code",
   "execution_count": 88,
   "id": "bc3a03d7",
   "metadata": {},
   "outputs": [
    {
     "name": "stdout",
     "output_type": "stream",
     "text": [
      "Index(['Open', 'High', 'Low', 'Close', 'Volume', 'MA5', 'MA20', 'MA50',\n",
      "       'Price_Change', 'Price_Change_5d', 'Volatility_5d', 'Volume_Change',\n",
      "       'Volume_MA5', 'RSI', 'MACD', 'MACD_Signal'],\n",
      "      dtype='object')\n"
     ]
    }
   ],
   "source": [
    "#list key of data\n",
    "print(data['AAPL'].keys())"
   ]
  },
  {
   "cell_type": "markdown",
   "id": "909379d9",
   "metadata": {},
   "source": [
    "### Prepare the Dataset for Regression"
   ]
  },
  {
   "cell_type": "code",
   "execution_count": 89,
   "id": "1e3a9dde",
   "metadata": {},
   "outputs": [
    {
     "name": "stdout",
     "output_type": "stream",
     "text": [
      "AAPL: 422 samples after preparation\n",
      "GOOGL: 422 samples after preparation\n",
      "MSFT: 422 samples after preparation\n",
      "AMZN: 422 samples after preparation\n",
      "META: 422 samples after preparation\n",
      "TSLA: 422 samples after preparation\n",
      "NFLX: 422 samples after preparation\n",
      "NVDA: 422 samples after preparation\n",
      "INTC: 422 samples after preparation\n",
      "AMD: 422 samples after preparation\n"
     ]
    }
   ],
   "source": [
    "# Define prediction horizon\n",
    "PREDICT_DAYS = 30\n",
    "\n",
    "X_data = {}\n",
    "y_data = {}\n",
    "\n",
    "for ticker, df in data.items():\n",
    "    # Create the target variable: price growth over next PREDICT_DAYS days\n",
    "    df['Target_Growth'] = df['Close'].pct_change(periods=PREDICT_DAYS).shift(-PREDICT_DAYS)\n",
    "    \n",
    "    # Drop rows with NaN targets (last PREDICT_DAYS rows)\n",
    "    df = df.dropna()\n",
    "    \n",
    "    # Select features\n",
    "    features = ['Open', 'High', 'Low', 'Close', 'Volume', \n",
    "                'MA5', 'MA20', 'MA50', 'Price_Change', 'Price_Change_5d',\n",
    "                'Volatility_5d', 'Volume_Change', 'Volume_MA5', 'RSI', \n",
    "                'MACD', 'MACD_Signal']\n",
    "    \n",
    "    X_data[ticker] = df[features]\n",
    "    y_data[ticker] = df['Target_Growth']\n",
    "    \n",
    "    print(f\"{ticker}: {len(df)} samples after preparation\")"
   ]
  },
  {
   "cell_type": "markdown",
   "id": "9d221f20",
   "metadata": {},
   "source": [
    "### Build Combined Dataset from All Stocks"
   ]
  },
  {
   "cell_type": "code",
   "execution_count": 90,
   "id": "72339766",
   "metadata": {},
   "outputs": [
    {
     "name": "stdout",
     "output_type": "stream",
     "text": [
      "Combined dataset shape: (4220, 26)\n",
      "Combined target shape: (4220,)\n"
     ]
    },
    {
     "name": "stderr",
     "output_type": "stream",
     "text": [
      "/tmp/ipykernel_67575/628331997.py:15: FutureWarning: The behavior of array concatenation with empty entries is deprecated. In a future version, this will no longer exclude empty items when determining the result dtype. To retain the old behavior, exclude the empty entries before the concat operation.\n",
      "  y_combined = pd.concat([y_combined, y_data[ticker]])\n"
     ]
    }
   ],
   "source": [
    "# Combine all stock data for a unified model\n",
    "X_combined = pd.DataFrame()\n",
    "y_combined = pd.Series()\n",
    "\n",
    "for ticker in tickers:\n",
    "    # Add a ticker identifier column\n",
    "    X_local = X_data[ticker].copy()\n",
    "    X_local['Ticker'] = ticker\n",
    "    \n",
    "    # One-hot encode the ticker\n",
    "    X_local = pd.get_dummies(X_local, columns=['Ticker'], prefix='Stock')\n",
    "    \n",
    "    # Append to combined dataset\n",
    "    X_combined = pd.concat([X_combined, X_local])\n",
    "    y_combined = pd.concat([y_combined, y_data[ticker]])\n",
    "\n",
    "# Reset index\n",
    "X_combined.reset_index(drop=True, inplace=True)\n",
    "y_combined.reset_index(drop=True, inplace=True)\n",
    "\n",
    "print(f\"Combined dataset shape: {X_combined.shape}\")\n",
    "print(f\"Combined target shape: {y_combined.shape}\")"
   ]
  },
  {
   "cell_type": "markdown",
   "id": "d8f2c2a6",
   "metadata": {},
   "source": [
    "### Split the Dataset"
   ]
  },
  {
   "cell_type": "code",
   "execution_count": 91,
   "id": "591aac94",
   "metadata": {},
   "outputs": [],
   "source": [
    "# Split the dataset\n",
    "X_train, X_test, y_train, y_test = train_test_split(\n",
    "    X_combined, y_combined, test_size=0.2, random_state=42\n",
    ")"
   ]
  },
  {
   "cell_type": "markdown",
   "id": "70ac4660",
   "metadata": {},
   "source": [
    "### Scale Features"
   ]
  },
  {
   "cell_type": "code",
   "execution_count": 92,
   "id": "ccd56c1a",
   "metadata": {},
   "outputs": [
    {
     "name": "stdout",
     "output_type": "stream",
     "text": [
      "Training set: (3376, 26), Test set: (844, 26)\n"
     ]
    }
   ],
   "source": [
    "# Identify numeric columns (exclude the one-hot encoded columns)\n",
    "numeric_cols = [col for col in X_combined.columns if not col.startswith('Stock_')]\n",
    "\n",
    "# Scale numeric features\n",
    "scaler = MinMaxScaler()\n",
    "X_train[numeric_cols] = scaler.fit_transform(X_train[numeric_cols])\n",
    "X_test[numeric_cols] = scaler.transform(X_test[numeric_cols])\n",
    "\n",
    "print(f\"Training set: {X_train.shape}, Test set: {X_test.shape}\")"
   ]
  },
  {
   "cell_type": "markdown",
   "id": "bd05921a",
   "metadata": {},
   "source": [
    "### Train Random Forest Regression Model\n"
   ]
  },
  {
   "cell_type": "code",
   "execution_count": 93,
   "id": "2ac2ceb0",
   "metadata": {},
   "outputs": [
    {
     "name": "stdout",
     "output_type": "stream",
     "text": [
      "Random Forest model trained successfully\n"
     ]
    }
   ],
   "source": [
    "# Create and train a Random Forest Regressor\n",
    "rf_model = RandomForestRegressor(\n",
    "    n_estimators=100,\n",
    "    max_depth=15,\n",
    "    min_samples_split=10,\n",
    "    random_state=42,\n",
    "    n_jobs=-1\n",
    ")\n",
    "\n",
    "rf_model.fit(X_train, y_train)\n",
    "print(\"Random Forest model trained successfully\")"
   ]
  },
  {
   "cell_type": "markdown",
   "id": "3e9d7113",
   "metadata": {},
   "source": [
    "### Evaluate Models"
   ]
  },
  {
   "cell_type": "code",
   "execution_count": 94,
   "id": "fb7c5603",
   "metadata": {},
   "outputs": [
    {
     "name": "stdout",
     "output_type": "stream",
     "text": [
      "Random Forest Performance:\n",
      "MSE: 0.007816\n",
      "RMSE: 0.088409\n",
      "MAE: 0.057144\n",
      "R² Score: 0.611927\n"
     ]
    }
   ],
   "source": [
    "# Function to evaluate regression models\n",
    "def evaluate_model(model, X, y, model_name=\"Model\"):\n",
    "    # Make predictions\n",
    "    y_pred = model.predict(X)\n",
    "    \n",
    "    # Calculate metrics\n",
    "    mse = mean_squared_error(y, y_pred)\n",
    "    rmse = np.sqrt(mse)\n",
    "    mae = mean_absolute_error(y, y_pred)\n",
    "    r2 = r2_score(y, y_pred)\n",
    "    \n",
    "    print(f\"{model_name} Performance:\")\n",
    "    print(f\"MSE: {mse:.6f}\")\n",
    "    print(f\"RMSE: {rmse:.6f}\")\n",
    "    print(f\"MAE: {mae:.6f}\")\n",
    "    print(f\"R² Score: {r2:.6f}\")\n",
    "    \n",
    "    return y_pred\n",
    "\n",
    "# Evaluate Random Forest model\n",
    "rf_preds = evaluate_model(rf_model, X_test, y_test, \"Random Forest\")"
   ]
  },
  {
   "cell_type": "markdown",
   "id": "111435ab",
   "metadata": {},
   "source": [
    "### Feature Importance Analysis"
   ]
  },
  {
   "cell_type": "code",
   "execution_count": 95,
   "id": "78200c04",
   "metadata": {},
   "outputs": [
    {
     "data": {
      "image/png": "[encoded data removed]",
      "text/plain": [
       "<Figure size 1200x800 with 1 Axes>"
      ]
     },
     "metadata": {},
     "output_type": "display_data"
    }
   ],
   "source": [
    "# Get feature importance from Random Forest\n",
    "feature_importance = pd.DataFrame({\n",
    "    'Feature': X_train.columns,\n",
    "    'Importance': rf_model.feature_importances_\n",
    "})\n",
    "feature_importance = feature_importance.sort_values('Importance', ascending=False)\n",
    "\n",
    "# Plot feature importance\n",
    "plt.figure(figsize=(12, 8))\n",
    "plt.barh(feature_importance['Feature'][:15], feature_importance['Importance'][:15])\n",
    "plt.xlabel('Importance')\n",
    "plt.title('Top 15 Feature Importance')\n",
    "plt.gca().invert_yaxis()  # Display the most important feature at the top\n",
    "plt.tight_layout()\n",
    "plt.show()"
   ]
  },
  {
   "cell_type": "markdown",
   "id": "bfbece23",
   "metadata": {},
   "source": [
    "### Prepare Latest Data for Prediction"
   ]
  },
  {
   "cell_type": "code",
   "execution_count": 96,
   "id": "d5086d2a",
   "metadata": {},
   "outputs": [],
   "source": [
    "# Function to prepare the latest data for prediction\n",
    "def prepare_latest_data():\n",
    "    latest_data = {}\n",
    "    \n",
    "    for ticker in tickers:\n",
    "        # Get the original dataframe\n",
    "        df = data[ticker]\n",
    "        \n",
    "        # Use the last row as our latest data point\n",
    "        latest = df.iloc[-1:].copy()\n",
    "        \n",
    "        # One-hot encode the ticker\n",
    "        latest_encoded = pd.DataFrame()\n",
    "        for t in tickers:\n",
    "            col_name = f'Stock_{t}'\n",
    "            latest_encoded[col_name] = [1 if t == ticker else 0]\n",
    "        \n",
    "        # Combine with the features\n",
    "        features = ['Open', 'High', 'Low', 'Close', 'Volume', \n",
    "                   'MA5', 'MA20', 'MA50', 'Price_Change', 'Price_Change_5d',\n",
    "                   'Volatility_5d', 'Volume_Change', 'Volume_MA5', 'RSI', \n",
    "                   'MACD', 'MACD_Signal']\n",
    "        \n",
    "        for feature in features:\n",
    "            latest_encoded[feature] = latest[feature].values\n",
    "        \n",
    "        # Scale the numeric features\n",
    "        latest_encoded[numeric_cols] = scaler.transform(latest_encoded[numeric_cols])\n",
    "        \n",
    "        latest_data[ticker] = latest_encoded\n",
    "        \n",
    "    return latest_data\n",
    "\n",
    "latest_data = prepare_latest_data()"
   ]
  },
  {
   "cell_type": "markdown",
   "id": "fedb473d",
   "metadata": {},
   "source": [
    "### Predict Growth for Each Stock"
   ]
  },
  {
   "cell_type": "code",
   "execution_count": 97,
   "id": "37e4a295",
   "metadata": {},
   "outputs": [
    {
     "name": "stdout",
     "output_type": "stream",
     "text": [
      "Predicted 30-day growth per stock:\n",
      "AMD: 4.50%\n",
      "GOOGL: 3.69%\n",
      "MSFT: 3.61%\n",
      "META: 3.21%\n",
      "NVDA: 2.88%\n",
      "INTC: 0.32%\n",
      "AAPL: -0.37%\n",
      "AMZN: -2.49%\n",
      "NFLX: -6.76%\n",
      "TSLA: -7.65%\n",
      "\n",
      "📈 Best stock to pick: AMD\n"
     ]
    }
   ],
   "source": [
    "# Make predictions using both models\n",
    "predictions = {}\n",
    "\n",
    "for ticker in tickers:\n",
    "    # Align feature columns with X_train\n",
    "    latest_data_aligned = latest_data[ticker].reindex(columns=X_train.columns, fill_value=0)\n",
    "    \n",
    "    rf_prediction = rf_model.predict(latest_data_aligned)[0]\n",
    "    \n",
    "    predictions[ticker] = rf_prediction\n",
    "\n",
    "# Sort predictions\n",
    "sorted_predictions = {k: v for k, v in sorted(predictions.items(), key=lambda item: item[1], reverse=True)}\n",
    "\n",
    "# Print results\n",
    "print(\"Predicted 30-day growth per stock:\")\n",
    "for ticker, growth in sorted_predictions.items():\n",
    "    print(f\"{ticker}: {(growth * 100):.2f}%\")\n",
    "\n",
    "# Identify the best stock\n",
    "best_stock = max(predictions, key=predictions.get)\n",
    "print(f\"\\n📈 Best stock to pick: {best_stock}\")"
   ]
  },
  {
   "cell_type": "markdown",
   "id": "d154c70c",
   "metadata": {},
   "source": [
    "### Visualize Predictions"
   ]
  },
  {
   "cell_type": "code",
   "execution_count": 98,
   "id": "eeb819d2",
   "metadata": {},
   "outputs": [
    {
     "data": {
      "image/png": "[encoded data removed]",
      "text/plain": [
       "<Figure size 1200x600 with 1 Axes>"
      ]
     },
     "metadata": {},
     "output_type": "display_data"
    }
   ],
   "source": [
    "# Visualize the predictions\n",
    "plt.figure(figsize=(12, 6))\n",
    "plt.bar(sorted_predictions.keys(), [v * 100 for v in sorted_predictions.values()])\n",
    "plt.axhline(y=0, color='r', linestyle='-', alpha=0.3)\n",
    "plt.xlabel('Stocks')\n",
    "plt.ylabel('Predicted 30-day Growth in %')\n",
    "plt.title('Stock Growth Predictions for Next 30 Days')\n",
    "plt.xticks(rotation=45)\n",
    "plt.tight_layout()\n",
    "plt.show()"
   ]
  },
  {
   "cell_type": "markdown",
   "id": "08b526b3",
   "metadata": {},
   "source": [
    "### Cross-Validation Analysis"
   ]
  },
  {
   "cell_type": "code",
   "execution_count": 99,
   "id": "65d0d012",
   "metadata": {},
   "outputs": [
    {
     "name": "stdout",
     "output_type": "stream",
     "text": [
      "Cross-Validation Results (RMSE):\n",
      "Mean RMSE: 0.169181\n",
      "Standard Deviation: 0.045400\n"
     ]
    }
   ],
   "source": [
    "from sklearn.model_selection import cross_val_score\n",
    "\n",
    "# Perform 5-fold cross validation\n",
    "cv_scores = cross_val_score(rf_model, X_combined, y_combined, cv=5, scoring='neg_mean_squared_error')\n",
    "\n",
    "# Convert to positive RMSE\n",
    "cv_rmse = np.sqrt(-cv_scores)\n",
    "\n",
    "print(\"Cross-Validation Results (RMSE):\")\n",
    "print(f\"Mean RMSE: {cv_rmse.mean():.6f}\")\n",
    "print(f\"Standard Deviation: {cv_rmse.std():.6f}\")"
   ]
  }
 ],
 "metadata": {
  "kernelspec": {
   "display_name": ".venv",
   "language": "python",
   "name": "python3"
  },
  "language_info": {
   "codemirror_mode": {
    "name": "ipython",
    "version": 3
   },
   "file_extension": ".py",
   "mimetype": "text/x-python",
   "name": "python",
   "nbconvert_exporter": "python",
   "pygments_lexer": "ipython3",
   "version": "3.12.3"
  }
 },
 "nbformat": 4,
 "nbformat_minor": 5
}
